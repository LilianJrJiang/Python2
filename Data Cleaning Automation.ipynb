{
 "cells": [
  {
   "cell_type": "code",
   "execution_count": 1,
   "metadata": {},
   "outputs": [],
   "source": [
    "import pandas as pd\n",
    "import numpy as np\n",
    "from functools import reduce\n",
    "import datetime\n",
    "from datetime import datetime\n",
    "import os\n"
   ]
  },
  {
   "cell_type": "code",
   "execution_count": 2,
   "metadata": {},
   "outputs": [
    {
     "data": {
      "text/plain": [
       "'/Users/ljiang/Desktop'"
      ]
     },
     "execution_count": 2,
     "metadata": {},
     "output_type": "execute_result"
    }
   ],
   "source": [
    "os.getcwd()"
   ]
  },
  {
   "cell_type": "code",
   "execution_count": 3,
   "metadata": {},
   "outputs": [],
   "source": [
    "data1=pd.read_excel(\"RELATED_ENTITIES_01282020.xlsx\")\n",
    "data2=pd.read_excel(\"AMER_CLIENTS_01282020.xlsx\")"
   ]
  },
  {
   "cell_type": "markdown",
   "metadata": {},
   "source": [
    "# Compile Data"
   ]
  },
  {
   "cell_type": "code",
   "execution_count": 4,
   "metadata": {},
   "outputs": [],
   "source": [
    "##compile the data and change the col names\n",
    "\n",
    "def Compile_data(data1,data2):\n",
    "    \n",
    "    new_header = data1.iloc[0] #grab the first row for the header\n",
    "    data1 = data1[1:] #take the data less the header row\n",
    "    data1.columns = new_header #set the header row as the df header\n",
    "\n",
    "    data1=data1.rename(columns={\"KYC Entities parent Full Legal Name\":\"Company Name *\",\n",
    "                         \"KYC Entities parent Postal Code\":\"ZipPostal\",\n",
    "                         \"KYC Entities parent Registered Address - Street\":\"Address\",\n",
    "                         \"KYC Entities parent State Name\":\"StateProv\",\n",
    "                         \"KYC Entities parent City Name\":\"City\",\n",
    "                         \"KYC Entities Country of Residence\":\"Country\"})\n",
    "\n",
    "\n",
    "    new_header = data2.iloc[0] #grab the first row for the header\n",
    "    data2 = data2[1:] #take the data less the header row\n",
    "    data2.columns = new_header #set the header row as the df header\n",
    "    data2\n",
    "\n",
    "\n",
    "\n",
    "    data2=data2.rename(columns={\"BDR EL Id\": \"Submission Id\",\"BDR EL Full Legal Name\":\"Company Name *\",\n",
    "                         \"BDR EL Addresses Registered Street Name\":\"Address\",\n",
    "                         \"BDR EL Addresses Registered State Name\":\"StateProv\",\n",
    "                         \"BDR EL Addresses Registered Postal Code\":\"ZipPostal\",\n",
    "                         \"BDR EL Addresses Registered Country\":\"Country\",\n",
    "                         \"BDR EL Addresses Registered City Name\":\"City\",\n",
    "                         \"BDR EL Addresses Business Street Name\":\"Location 1 Address\",\n",
    "                         \"BDR EL Addresses Business State Name\":\"Location 1 StateProv\",\n",
    "                         \"BDR EL Addresses Business Postal Code\":\"Location 1 ZipPostal\",\n",
    "                               \"BDR EL Addresses Business Country\":\"Location 1 Country\",\n",
    "                               \"BDR EL Addresses Business City Name\":\"Location 1 City\"})\n",
    "\n",
    "    data1=data1[[\"Company Name *\",\"Address\",\"City\",\"StateProv\",\"ZipPostal\",\"Country\",\"identifier\"]]\n",
    "    data2=data2[[\"Submission Id\",\"Company Name *\",\"Address\",\"City\",\"StateProv\",\"ZipPostal\",\"Country\",\"Location 1 Address\",\"Location 1 StateProv\",\"Location 1 ZipPostal\",\"Location 1 Country\",\"Location 1 City\",\"identifier\"]]\n",
    "    data=pd.concat([data1,data2], join=\"outer\")\n",
    "    \n",
    "    return data\n",
    "\n"
   ]
  },
  {
   "cell_type": "code",
   "execution_count": 5,
   "metadata": {},
   "outputs": [
    {
     "name": "stderr",
     "output_type": "stream",
     "text": [
      "/Users/ljiang/anaconda3/lib/python3.7/site-packages/ipykernel_launcher.py:38: FutureWarning: Sorting because non-concatenation axis is not aligned. A future version\n",
      "of pandas will change to not sort by default.\n",
      "\n",
      "To accept the future behavior, pass 'sort=False'.\n",
      "\n",
      "To retain the current behavior and silence the warning, pass 'sort=True'.\n",
      "\n"
     ]
    },
    {
     "data": {
      "text/html": [
       "<div>\n",
       "<style scoped>\n",
       "    .dataframe tbody tr th:only-of-type {\n",
       "        vertical-align: middle;\n",
       "    }\n",
       "\n",
       "    .dataframe tbody tr th {\n",
       "        vertical-align: top;\n",
       "    }\n",
       "\n",
       "    .dataframe thead th {\n",
       "        text-align: right;\n",
       "    }\n",
       "</style>\n",
       "<table border=\"1\" class=\"dataframe\">\n",
       "  <thead>\n",
       "    <tr style=\"text-align: right;\">\n",
       "      <th></th>\n",
       "      <th>Address</th>\n",
       "      <th>City</th>\n",
       "      <th>Company Name *</th>\n",
       "      <th>Country</th>\n",
       "      <th>Location 1 Address</th>\n",
       "      <th>Location 1 City</th>\n",
       "      <th>Location 1 Country</th>\n",
       "      <th>Location 1 StateProv</th>\n",
       "      <th>Location 1 ZipPostal</th>\n",
       "      <th>StateProv</th>\n",
       "      <th>Submission Id</th>\n",
       "      <th>ZipPostal</th>\n",
       "      <th>identifier</th>\n",
       "    </tr>\n",
       "  </thead>\n",
       "  <tbody>\n",
       "    <tr>\n",
       "      <th>1</th>\n",
       "      <td>NaN</td>\n",
       "      <td>NaN</td>\n",
       "      <td>10036803 Canada Inc.,</td>\n",
       "      <td>CANADA                                        ...</td>\n",
       "      <td>NaN</td>\n",
       "      <td>NaN</td>\n",
       "      <td>NaN</td>\n",
       "      <td>NaN</td>\n",
       "      <td>NaN</td>\n",
       "      <td>NaN</td>\n",
       "      <td>NaN</td>\n",
       "      <td>NaN</td>\n",
       "      <td>B-1</td>\n",
       "    </tr>\n",
       "    <tr>\n",
       "      <th>2</th>\n",
       "      <td>NaN</td>\n",
       "      <td>-</td>\n",
       "      <td>101 MERRIMAC HOLDINGS, LLC</td>\n",
       "      <td>UNITED STATES OF AMERICA                      ...</td>\n",
       "      <td>NaN</td>\n",
       "      <td>NaN</td>\n",
       "      <td>NaN</td>\n",
       "      <td>NaN</td>\n",
       "      <td>NaN</td>\n",
       "      <td>NaN</td>\n",
       "      <td>NaN</td>\n",
       "      <td>-</td>\n",
       "      <td>B-2</td>\n",
       "    </tr>\n",
       "    <tr>\n",
       "      <th>3</th>\n",
       "      <td>NaN</td>\n",
       "      <td>-</td>\n",
       "      <td>101 MERRIMAC, INC</td>\n",
       "      <td>UNITED STATES OF AMERICA                      ...</td>\n",
       "      <td>NaN</td>\n",
       "      <td>NaN</td>\n",
       "      <td>NaN</td>\n",
       "      <td>NaN</td>\n",
       "      <td>NaN</td>\n",
       "      <td>NaN</td>\n",
       "      <td>NaN</td>\n",
       "      <td>-</td>\n",
       "      <td>B-3</td>\n",
       "    </tr>\n",
       "    <tr>\n",
       "      <th>4</th>\n",
       "      <td>NaN</td>\n",
       "      <td>-</td>\n",
       "      <td>101 MERRIMAC, LLC</td>\n",
       "      <td>UNITED STATES OF AMERICA                      ...</td>\n",
       "      <td>NaN</td>\n",
       "      <td>NaN</td>\n",
       "      <td>NaN</td>\n",
       "      <td>NaN</td>\n",
       "      <td>NaN</td>\n",
       "      <td>NaN</td>\n",
       "      <td>NaN</td>\n",
       "      <td>-</td>\n",
       "      <td>B-4</td>\n",
       "    </tr>\n",
       "    <tr>\n",
       "      <th>5</th>\n",
       "      <td>NaN</td>\n",
       "      <td>WILMINGTON</td>\n",
       "      <td>1029 GEARY JV LLC</td>\n",
       "      <td>UNITED STATES OF AMERICA                      ...</td>\n",
       "      <td>NaN</td>\n",
       "      <td>NaN</td>\n",
       "      <td>NaN</td>\n",
       "      <td>NaN</td>\n",
       "      <td>NaN</td>\n",
       "      <td>DELAWARE</td>\n",
       "      <td>NaN</td>\n",
       "      <td>19801</td>\n",
       "      <td>B-5</td>\n",
       "    </tr>\n",
       "  </tbody>\n",
       "</table>\n",
       "</div>"
      ],
      "text/plain": [
       "  Address        City              Company Name *  \\\n",
       "1     NaN         NaN       10036803 Canada Inc.,   \n",
       "2     NaN           -  101 MERRIMAC HOLDINGS, LLC   \n",
       "3     NaN           -           101 MERRIMAC, INC   \n",
       "4     NaN           -           101 MERRIMAC, LLC   \n",
       "5     NaN  WILMINGTON           1029 GEARY JV LLC   \n",
       "\n",
       "                                             Country Location 1 Address  \\\n",
       "1  CANADA                                        ...                NaN   \n",
       "2  UNITED STATES OF AMERICA                      ...                NaN   \n",
       "3  UNITED STATES OF AMERICA                      ...                NaN   \n",
       "4  UNITED STATES OF AMERICA                      ...                NaN   \n",
       "5  UNITED STATES OF AMERICA                      ...                NaN   \n",
       "\n",
       "  Location 1 City Location 1 Country Location 1 StateProv  \\\n",
       "1             NaN                NaN                  NaN   \n",
       "2             NaN                NaN                  NaN   \n",
       "3             NaN                NaN                  NaN   \n",
       "4             NaN                NaN                  NaN   \n",
       "5             NaN                NaN                  NaN   \n",
       "\n",
       "  Location 1 ZipPostal StateProv Submission Id ZipPostal identifier  \n",
       "1                  NaN       NaN           NaN       NaN        B-1  \n",
       "2                  NaN       NaN           NaN         -        B-2  \n",
       "3                  NaN       NaN           NaN         -        B-3  \n",
       "4                  NaN       NaN           NaN         -        B-4  \n",
       "5                  NaN  DELAWARE           NaN     19801        B-5  "
      ]
     },
     "execution_count": 5,
     "metadata": {},
     "output_type": "execute_result"
    }
   ],
   "source": [
    "data=Compile_data(data1,data2)\n",
    "data.head()"
   ]
  },
  {
   "cell_type": "code",
   "execution_count": 6,
   "metadata": {},
   "outputs": [
    {
     "data": {
      "text/plain": [
       "27670"
      ]
     },
     "execution_count": 6,
     "metadata": {},
     "output_type": "execute_result"
    }
   ],
   "source": [
    "len(data1)+len(data2)"
   ]
  },
  {
   "cell_type": "markdown",
   "metadata": {},
   "source": [
    "# Clean Special Characters Cleaning"
   ]
  },
  {
   "cell_type": "code",
   "execution_count": 7,
   "metadata": {},
   "outputs": [],
   "source": [
    "def Clean_the_spec_char(df):\n",
    "    \n",
    "    data[\"Address\"]=data[\"Address\"].replace(\"-\",np.nan).replace(\".\",np.nan).replace(\"n.a.\",np.nan).replace(\"NA\",np.nan).replace(\"n.a\",np.nan).replace(\"N/A\",np.nan).replace(\"na\",np.nan)\n",
    "    data[\"City\"]=data[\"City\"].replace(\"-\",np.nan).replace(\"--\",np.nan).replace(\"?NA\",np.nan).replace(\".\",np.nan).replace(\"n.a.\",np.nan).replace(\"NA\",np.nan).replace(\"n.a\",np.nan).replace(\"N/A\",np.nan).replace(\"na\",np.nan)\n",
    "    data[\"Location 1 ZipPostal\"]=data[\"Location 1 ZipPostal\"].replace(\"-\",np.nan).replace(\"n.a.\",np.nan).replace(\"NA\",np.nan).replace(\"n.a\",np.nan).replace(\"N/A\",np.nan).replace(\"na\",np.nan)\n",
    "    data[\"ZipPostal\"]=data[\"ZipPostal\"].replace(\"-\",np.nan).replace(\"--\",np.nan).replace(\".\",np.nan).replace(\"..\",np.nan).replace(\"n.a.\",np.nan).replace(\"NA\",np.nan).replace(\"n.a\",np.nan).replace(\"N/A\",np.nan).replace(\"na\",np.nan)\n",
    "    data[\"StateProv\"]=data[\"StateProv\"].replace(\"-\",np.nan).replace(\".\",np.nan).replace(\"n.a.\",np.nan).replace(\"NA\",np.nan).replace(\"n.a\",np.nan).replace(\"N/A\",np.nan).replace(\"na\",np.nan)\n",
    "    \n",
    "    return data"
   ]
  },
  {
   "cell_type": "code",
   "execution_count": 8,
   "metadata": {},
   "outputs": [
    {
     "data": {
      "text/html": [
       "<div>\n",
       "<style scoped>\n",
       "    .dataframe tbody tr th:only-of-type {\n",
       "        vertical-align: middle;\n",
       "    }\n",
       "\n",
       "    .dataframe tbody tr th {\n",
       "        vertical-align: top;\n",
       "    }\n",
       "\n",
       "    .dataframe thead th {\n",
       "        text-align: right;\n",
       "    }\n",
       "</style>\n",
       "<table border=\"1\" class=\"dataframe\">\n",
       "  <thead>\n",
       "    <tr style=\"text-align: right;\">\n",
       "      <th></th>\n",
       "      <th>Address</th>\n",
       "      <th>City</th>\n",
       "      <th>Company Name *</th>\n",
       "      <th>Country</th>\n",
       "      <th>Location 1 Address</th>\n",
       "      <th>Location 1 City</th>\n",
       "      <th>Location 1 Country</th>\n",
       "      <th>Location 1 StateProv</th>\n",
       "      <th>Location 1 ZipPostal</th>\n",
       "      <th>StateProv</th>\n",
       "      <th>Submission Id</th>\n",
       "      <th>ZipPostal</th>\n",
       "      <th>identifier</th>\n",
       "    </tr>\n",
       "  </thead>\n",
       "  <tbody>\n",
       "    <tr>\n",
       "      <th>1</th>\n",
       "      <td>NaN</td>\n",
       "      <td>NaN</td>\n",
       "      <td>10036803 Canada Inc.,</td>\n",
       "      <td>CANADA                                        ...</td>\n",
       "      <td>NaN</td>\n",
       "      <td>NaN</td>\n",
       "      <td>NaN</td>\n",
       "      <td>NaN</td>\n",
       "      <td>NaN</td>\n",
       "      <td>NaN</td>\n",
       "      <td>NaN</td>\n",
       "      <td>NaN</td>\n",
       "      <td>B-1</td>\n",
       "    </tr>\n",
       "    <tr>\n",
       "      <th>2</th>\n",
       "      <td>NaN</td>\n",
       "      <td>NaN</td>\n",
       "      <td>101 MERRIMAC HOLDINGS, LLC</td>\n",
       "      <td>UNITED STATES OF AMERICA                      ...</td>\n",
       "      <td>NaN</td>\n",
       "      <td>NaN</td>\n",
       "      <td>NaN</td>\n",
       "      <td>NaN</td>\n",
       "      <td>NaN</td>\n",
       "      <td>NaN</td>\n",
       "      <td>NaN</td>\n",
       "      <td>NaN</td>\n",
       "      <td>B-2</td>\n",
       "    </tr>\n",
       "    <tr>\n",
       "      <th>3</th>\n",
       "      <td>NaN</td>\n",
       "      <td>NaN</td>\n",
       "      <td>101 MERRIMAC, INC</td>\n",
       "      <td>UNITED STATES OF AMERICA                      ...</td>\n",
       "      <td>NaN</td>\n",
       "      <td>NaN</td>\n",
       "      <td>NaN</td>\n",
       "      <td>NaN</td>\n",
       "      <td>NaN</td>\n",
       "      <td>NaN</td>\n",
       "      <td>NaN</td>\n",
       "      <td>NaN</td>\n",
       "      <td>B-3</td>\n",
       "    </tr>\n",
       "    <tr>\n",
       "      <th>4</th>\n",
       "      <td>NaN</td>\n",
       "      <td>NaN</td>\n",
       "      <td>101 MERRIMAC, LLC</td>\n",
       "      <td>UNITED STATES OF AMERICA                      ...</td>\n",
       "      <td>NaN</td>\n",
       "      <td>NaN</td>\n",
       "      <td>NaN</td>\n",
       "      <td>NaN</td>\n",
       "      <td>NaN</td>\n",
       "      <td>NaN</td>\n",
       "      <td>NaN</td>\n",
       "      <td>NaN</td>\n",
       "      <td>B-4</td>\n",
       "    </tr>\n",
       "    <tr>\n",
       "      <th>5</th>\n",
       "      <td>NaN</td>\n",
       "      <td>WILMINGTON</td>\n",
       "      <td>1029 GEARY JV LLC</td>\n",
       "      <td>UNITED STATES OF AMERICA                      ...</td>\n",
       "      <td>NaN</td>\n",
       "      <td>NaN</td>\n",
       "      <td>NaN</td>\n",
       "      <td>NaN</td>\n",
       "      <td>NaN</td>\n",
       "      <td>DELAWARE</td>\n",
       "      <td>NaN</td>\n",
       "      <td>19801</td>\n",
       "      <td>B-5</td>\n",
       "    </tr>\n",
       "  </tbody>\n",
       "</table>\n",
       "</div>"
      ],
      "text/plain": [
       "  Address        City              Company Name *  \\\n",
       "1     NaN         NaN       10036803 Canada Inc.,   \n",
       "2     NaN         NaN  101 MERRIMAC HOLDINGS, LLC   \n",
       "3     NaN         NaN           101 MERRIMAC, INC   \n",
       "4     NaN         NaN           101 MERRIMAC, LLC   \n",
       "5     NaN  WILMINGTON           1029 GEARY JV LLC   \n",
       "\n",
       "                                             Country Location 1 Address  \\\n",
       "1  CANADA                                        ...                NaN   \n",
       "2  UNITED STATES OF AMERICA                      ...                NaN   \n",
       "3  UNITED STATES OF AMERICA                      ...                NaN   \n",
       "4  UNITED STATES OF AMERICA                      ...                NaN   \n",
       "5  UNITED STATES OF AMERICA                      ...                NaN   \n",
       "\n",
       "  Location 1 City Location 1 Country Location 1 StateProv  \\\n",
       "1             NaN                NaN                  NaN   \n",
       "2             NaN                NaN                  NaN   \n",
       "3             NaN                NaN                  NaN   \n",
       "4             NaN                NaN                  NaN   \n",
       "5             NaN                NaN                  NaN   \n",
       "\n",
       "  Location 1 ZipPostal StateProv Submission Id ZipPostal identifier  \n",
       "1                  NaN       NaN           NaN       NaN        B-1  \n",
       "2                  NaN       NaN           NaN       NaN        B-2  \n",
       "3                  NaN       NaN           NaN       NaN        B-3  \n",
       "4                  NaN       NaN           NaN       NaN        B-4  \n",
       "5                  NaN  DELAWARE           NaN     19801        B-5  "
      ]
     },
     "execution_count": 8,
     "metadata": {},
     "output_type": "execute_result"
    }
   ],
   "source": [
    "data=Clean_the_spec_char(data)\n",
    "data.head()"
   ]
  },
  {
   "cell_type": "code",
   "execution_count": 109,
   "metadata": {},
   "outputs": [],
   "source": [
    "data_new=data.copy()"
   ]
  },
  {
   "cell_type": "markdown",
   "metadata": {},
   "source": [
    "# Double Space TRIM Company Name"
   ]
  },
  {
   "cell_type": "code",
   "execution_count": 110,
   "metadata": {},
   "outputs": [],
   "source": [
    "## check for the nan in company name\n",
    "\n",
    "def Check_for_nan_name(data_new):\n",
    "    \n",
    "    new_name=[]\n",
    "    name2=[]\n",
    "    index2=[]\n",
    "    name=data_new['Company Name *'].to_list()\n",
    "    for i in range(len(name)):\n",
    "        if type(name[i])==float:\n",
    "            name2.append(name[i])\n",
    "            index2.append(i)\n",
    "    return index2"
   ]
  },
  {
   "cell_type": "code",
   "execution_count": 111,
   "metadata": {},
   "outputs": [
    {
     "data": {
      "text/plain": [
       "[10153]"
      ]
     },
     "execution_count": 111,
     "metadata": {},
     "output_type": "execute_result"
    }
   ],
   "source": [
    "Check_for_nan_name(data_new)"
   ]
  },
  {
   "cell_type": "code",
   "execution_count": 112,
   "metadata": {},
   "outputs": [
    {
     "data": {
      "text/plain": [
       "Address                                                               NaN\n",
       "City                                                                  NaN\n",
       "Company Name *                                                        NaN\n",
       "Country                 CANADA                                        ...\n",
       "Location 1 Address                                                    NaN\n",
       "Location 1 City                                                       NaN\n",
       "Location 1 Country                                                    NaN\n",
       "Location 1 StateProv                                                  NaN\n",
       "Location 1 ZipPostal                                                  NaN\n",
       "StateProv                                                             NaN\n",
       "Submission Id                                                         NaN\n",
       "ZipPostal                                                             NaN\n",
       "identifier                                                        B-10154\n",
       "Name: 10154, dtype: object"
      ]
     },
     "execution_count": 112,
     "metadata": {},
     "output_type": "execute_result"
    }
   ],
   "source": [
    "data_new.iloc[10153]\n",
    "# # # ## may change in future manual \n",
    "# data_new=data_new.drop(10152)\n",
    "#data_new=data_new.reset_index(drop=True)"
   ]
  },
  {
   "cell_type": "code",
   "execution_count": 113,
   "metadata": {},
   "outputs": [],
   "source": [
    "## name clean\n",
    "def Trim_company_name(data_new):\n",
    "    data_new['Company Name *']=data_new['Company Name *'].astype(str)\n",
    "    data_new['Company Name *']\n",
    "\n",
    "    name=data_new[\"Company Name *\"].to_list()\n",
    "    new_name=[]\n",
    "\n",
    "    for i in range(len(name)):\n",
    "        str1=name[i].split()  \n",
    "        new_string=\" \".join(str1)\n",
    "        new_name.append(new_string)\n",
    "    data_new[\"Company Name *\"]=new_name\n",
    "    return print(\"done\")"
   ]
  },
  {
   "cell_type": "code",
   "execution_count": 114,
   "metadata": {},
   "outputs": [
    {
     "name": "stdout",
     "output_type": "stream",
     "text": [
      "done\n"
     ]
    }
   ],
   "source": [
    "Trim_company_name(data_new)"
   ]
  },
  {
   "cell_type": "markdown",
   "metadata": {},
   "source": [
    "# Strip the Last Punctuation"
   ]
  },
  {
   "cell_type": "code",
   "execution_count": 115,
   "metadata": {},
   "outputs": [],
   "source": [
    "## doing twice strip last punctuation, takes seconds to run"
   ]
  },
  {
   "cell_type": "code",
   "execution_count": 116,
   "metadata": {},
   "outputs": [
    {
     "name": "stdout",
     "output_type": "stream",
     "text": [
      "BROWN BROTHERS HARRIMAN & CO\n"
     ]
    }
   ],
   "source": [
    "import string\n",
    "\n",
    "def strip_last_punctuation(s):\n",
    "    if s and s[-1] in string.punctuation:\n",
    "        return s[:-1]\n",
    "    else:\n",
    "        return s\n",
    "\n",
    "test_str = \"BROWN BROTHERS HARRIMAN & CO.\"\n",
    "print(strip_last_punctuation(test_str))"
   ]
  },
  {
   "cell_type": "code",
   "execution_count": 117,
   "metadata": {},
   "outputs": [],
   "source": [
    "  \n",
    "test=data_new[\"Company Name *\"].to_list()\n",
    "\n",
    "## strip once\n",
    "lst=[]\n",
    "for i in range(0,len(test)):\n",
    "    lst.append(strip_last_punctuation(test[i]))\n",
    "\n",
    "## strip twice\n",
    "lst1=[]\n",
    "for i in range(0,len(lst)):\n",
    "    lst1.append(strip_last_punctuation(lst[i]))\n",
    "##UPDATE company name\n",
    "data_new['Company Name *'] = lst1\n",
    "\n",
    "##Change name into upper cases\n",
    "data_new[\"Company Name *\"]=data_new[\"Company Name *\"].str.upper()\n"
   ]
  },
  {
   "cell_type": "code",
   "execution_count": 118,
   "metadata": {
    "scrolled": true
   },
   "outputs": [],
   "source": [
    "# len(lst)\n",
    "data_new[\"Company Name *\"]=data_new[\"Company Name *\"].str.upper()\n",
    "#data_new['Company Name *']"
   ]
  },
  {
   "cell_type": "code",
   "execution_count": 119,
   "metadata": {},
   "outputs": [],
   "source": [
    "#data_new.to_excel(\"check3.xlsx\")"
   ]
  },
  {
   "cell_type": "markdown",
   "metadata": {},
   "source": [
    "# Top Row Identify"
   ]
  },
  {
   "cell_type": "code",
   "execution_count": 120,
   "metadata": {},
   "outputs": [],
   "source": [
    "# #data_new=data.copy()\n",
    "# data_new\n",
    "# data_new=data_new.sort_values(by='Company Name *').reset_index(drop=True)\n",
    "# data_new"
   ]
  },
  {
   "cell_type": "code",
   "execution_count": 121,
   "metadata": {
    "scrolled": true
   },
   "outputs": [],
   "source": [
    "# ## QAed Running Fine\n",
    "# data_new[\"Top\"]=np.nan\n",
    "# for i in range(1,len(data_new)):\n",
    "#     if data_new[\"Company Name *\"][i-1]==data_new[\"Company Name *\"][i]:\n",
    "#         data_new[\"Top\"][i]=\"+\"\n",
    "#     else: \n",
    "#         #data_new[\"Top\"][i]=\"top\"\n",
    "#         if (data_new[\"Company Name *\"][i-1]!=data_new[\"Company Name *\"][i])&(data_new[\"Company Name *\"][i+1]!=data_new[\"Company Name *\"][i]):\n",
    "#             data_new[\"Top\"][i]=\"Single\"\n",
    "#         else:\n",
    "#             data_new[\"Top\"][i]=\"Top\"\n",
    "# print(\"done\")"
   ]
  },
  {
   "cell_type": "code",
   "execution_count": 122,
   "metadata": {},
   "outputs": [],
   "source": [
    "# # ## whole run QA\n",
    "# data_new.to_excel(\"refresh_QA3.xlsx\")"
   ]
  },
  {
   "cell_type": "code",
   "execution_count": 123,
   "metadata": {
    "scrolled": true
   },
   "outputs": [],
   "source": [
    "# ## input of the country clean\n",
    "# data_new=pd.read_excel(\"refresh_QA3.xlsx\")\n",
    "# data_new"
   ]
  },
  {
   "cell_type": "markdown",
   "metadata": {},
   "source": [
    "# Country Name Cleaning"
   ]
  },
  {
   "cell_type": "code",
   "execution_count": 124,
   "metadata": {
    "scrolled": true
   },
   "outputs": [
    {
     "data": {
      "text/html": [
       "<div>\n",
       "<style scoped>\n",
       "    .dataframe tbody tr th:only-of-type {\n",
       "        vertical-align: middle;\n",
       "    }\n",
       "\n",
       "    .dataframe tbody tr th {\n",
       "        vertical-align: top;\n",
       "    }\n",
       "\n",
       "    .dataframe thead th {\n",
       "        text-align: right;\n",
       "    }\n",
       "</style>\n",
       "<table border=\"1\" class=\"dataframe\">\n",
       "  <thead>\n",
       "    <tr style=\"text-align: right;\">\n",
       "      <th></th>\n",
       "      <th>country</th>\n",
       "      <th>variable</th>\n",
       "      <th>name</th>\n",
       "    </tr>\n",
       "  </thead>\n",
       "  <tbody>\n",
       "    <tr>\n",
       "      <th>0</th>\n",
       "      <td>AFGHANISTAN</td>\n",
       "      <td>0</td>\n",
       "      <td>ISLAMIC REPUBLIC OF AFGHANISTAN</td>\n",
       "    </tr>\n",
       "    <tr>\n",
       "      <th>1</th>\n",
       "      <td>ALAND ISLANDS</td>\n",
       "      <td>1</td>\n",
       "      <td>ÅLAND</td>\n",
       "    </tr>\n",
       "    <tr>\n",
       "      <th>2</th>\n",
       "      <td>ALAND ISLANDS</td>\n",
       "      <td>0</td>\n",
       "      <td>PROVINCE OF ÅLAND</td>\n",
       "    </tr>\n",
       "    <tr>\n",
       "      <th>3</th>\n",
       "      <td>ALBANIA</td>\n",
       "      <td>0</td>\n",
       "      <td>REPUBLIC OF ALBANIA</td>\n",
       "    </tr>\n",
       "    <tr>\n",
       "      <th>4</th>\n",
       "      <td>ALGERIA</td>\n",
       "      <td>0</td>\n",
       "      <td>PEOPLE’S DEMOCRATIC REPUBLIC OF ALGERIA</td>\n",
       "    </tr>\n",
       "    <tr>\n",
       "      <th>5</th>\n",
       "      <td>ANDORRA</td>\n",
       "      <td>0</td>\n",
       "      <td>PRINCIPALITY OF ANDORRA</td>\n",
       "    </tr>\n",
       "    <tr>\n",
       "      <th>6</th>\n",
       "      <td>ANGOLA</td>\n",
       "      <td>0</td>\n",
       "      <td>REPUBLIC OF ANGOLA</td>\n",
       "    </tr>\n",
       "    <tr>\n",
       "      <th>7</th>\n",
       "      <td>ARGENTINA</td>\n",
       "      <td>0</td>\n",
       "      <td>ARGENTINE REPUBLIC</td>\n",
       "    </tr>\n",
       "    <tr>\n",
       "      <th>8</th>\n",
       "      <td>ARMENIA</td>\n",
       "      <td>0</td>\n",
       "      <td>REPUBLIC OF ARMENIA</td>\n",
       "    </tr>\n",
       "    <tr>\n",
       "      <th>9</th>\n",
       "      <td>AUSTRALIA</td>\n",
       "      <td>0</td>\n",
       "      <td>COMMONWEALTH OF AUSTRALIA</td>\n",
       "    </tr>\n",
       "    <tr>\n",
       "      <th>10</th>\n",
       "      <td>AUSTRIA</td>\n",
       "      <td>0</td>\n",
       "      <td>REPUBLIC OF AUSTRIA</td>\n",
       "    </tr>\n",
       "    <tr>\n",
       "      <th>11</th>\n",
       "      <td>AZERBAIJAN</td>\n",
       "      <td>0</td>\n",
       "      <td>REPUBLIC OF AZERBAIJAN</td>\n",
       "    </tr>\n",
       "    <tr>\n",
       "      <th>12</th>\n",
       "      <td>BAHAMAS</td>\n",
       "      <td>1</td>\n",
       "      <td>THE BAHAMAS</td>\n",
       "    </tr>\n",
       "    <tr>\n",
       "      <th>13</th>\n",
       "      <td>BAHAMAS</td>\n",
       "      <td>0</td>\n",
       "      <td>COMMONWEALTH OF THE BAHAMAS</td>\n",
       "    </tr>\n",
       "    <tr>\n",
       "      <th>14</th>\n",
       "      <td>BAHRAIN</td>\n",
       "      <td>0</td>\n",
       "      <td>KINGDOM OF BAHRAIN</td>\n",
       "    </tr>\n",
       "    <tr>\n",
       "      <th>15</th>\n",
       "      <td>BELARUS</td>\n",
       "      <td>0</td>\n",
       "      <td>REPUBLIC OF BELARUS</td>\n",
       "    </tr>\n",
       "    <tr>\n",
       "      <th>16</th>\n",
       "      <td>BELGIUM</td>\n",
       "      <td>0</td>\n",
       "      <td>KINGDOM OF BELGIUM</td>\n",
       "    </tr>\n",
       "    <tr>\n",
       "      <th>17</th>\n",
       "      <td>BENIN</td>\n",
       "      <td>0</td>\n",
       "      <td>REPUBLIC OF BENIN</td>\n",
       "    </tr>\n",
       "    <tr>\n",
       "      <th>18</th>\n",
       "      <td>BERMUDA</td>\n",
       "      <td>1</td>\n",
       "      <td>SOMERS ISLANDS</td>\n",
       "    </tr>\n",
       "    <tr>\n",
       "      <th>19</th>\n",
       "      <td>BERMUDA</td>\n",
       "      <td>0</td>\n",
       "      <td>SOMERS ISLES</td>\n",
       "    </tr>\n",
       "    <tr>\n",
       "      <th>20</th>\n",
       "      <td>BHUTAN</td>\n",
       "      <td>0</td>\n",
       "      <td>KINGDOM OF BHUTAN</td>\n",
       "    </tr>\n",
       "    <tr>\n",
       "      <th>21</th>\n",
       "      <td>BOLIVIA</td>\n",
       "      <td>1</td>\n",
       "      <td>REPUBLIC OF BOLIVIA</td>\n",
       "    </tr>\n",
       "    <tr>\n",
       "      <th>22</th>\n",
       "      <td>BOLIVIA</td>\n",
       "      <td>0</td>\n",
       "      <td>PLURINATIONAL STATE OF BOLIVIA</td>\n",
       "    </tr>\n",
       "    <tr>\n",
       "      <th>23</th>\n",
       "      <td>BONAIRE, SAINT EUSTATIUS AND SABA</td>\n",
       "      <td>1</td>\n",
       "      <td>SAINT EUSTATIUS</td>\n",
       "    </tr>\n",
       "    <tr>\n",
       "      <th>24</th>\n",
       "      <td>BONAIRE, SAINT EUSTATIUS AND SABA</td>\n",
       "      <td>3</td>\n",
       "      <td>SABA</td>\n",
       "    </tr>\n",
       "    <tr>\n",
       "      <th>25</th>\n",
       "      <td>BONAIRE, SAINT EUSTATIUS AND SABA</td>\n",
       "      <td>2</td>\n",
       "      <td>SINT EUSTATIUS</td>\n",
       "    </tr>\n",
       "    <tr>\n",
       "      <th>26</th>\n",
       "      <td>BONAIRE, SAINT EUSTATIUS AND SABA</td>\n",
       "      <td>5</td>\n",
       "      <td>BES ISLANDS</td>\n",
       "    </tr>\n",
       "    <tr>\n",
       "      <th>27</th>\n",
       "      <td>BONAIRE, SAINT EUSTATIUS AND SABA</td>\n",
       "      <td>4</td>\n",
       "      <td>SAINT EUSTATIUS AND SABA</td>\n",
       "    </tr>\n",
       "    <tr>\n",
       "      <th>28</th>\n",
       "      <td>BONAIRE, SAINT EUSTATIUS AND SABA</td>\n",
       "      <td>0</td>\n",
       "      <td>BONAIRE</td>\n",
       "    </tr>\n",
       "    <tr>\n",
       "      <th>29</th>\n",
       "      <td>BOTSWANA</td>\n",
       "      <td>0</td>\n",
       "      <td>REPUBLIC OF BOTSWANA</td>\n",
       "    </tr>\n",
       "    <tr>\n",
       "      <th>...</th>\n",
       "      <td>...</td>\n",
       "      <td>...</td>\n",
       "      <td>...</td>\n",
       "    </tr>\n",
       "    <tr>\n",
       "      <th>279</th>\n",
       "      <td>UNITED KINGDOM</td>\n",
       "      <td>5</td>\n",
       "      <td>G.B.</td>\n",
       "    </tr>\n",
       "    <tr>\n",
       "      <th>280</th>\n",
       "      <td>UNITED KINGDOM</td>\n",
       "      <td>1</td>\n",
       "      <td>GREAT BRITAIN</td>\n",
       "    </tr>\n",
       "    <tr>\n",
       "      <th>281</th>\n",
       "      <td>UNITED STATES</td>\n",
       "      <td>0</td>\n",
       "      <td>U.S.</td>\n",
       "    </tr>\n",
       "    <tr>\n",
       "      <th>282</th>\n",
       "      <td>UNITED STATES</td>\n",
       "      <td>1</td>\n",
       "      <td>UNITED STATES OF AMERICA</td>\n",
       "    </tr>\n",
       "    <tr>\n",
       "      <th>283</th>\n",
       "      <td>UNITED STATES</td>\n",
       "      <td>3</td>\n",
       "      <td>U.S.A.</td>\n",
       "    </tr>\n",
       "    <tr>\n",
       "      <th>284</th>\n",
       "      <td>UNITED STATES</td>\n",
       "      <td>2</td>\n",
       "      <td>THE UNITED STATES OF AMERICA</td>\n",
       "    </tr>\n",
       "    <tr>\n",
       "      <th>285</th>\n",
       "      <td>UNITED STATES MINOR OUTLYING ISLANDS</td>\n",
       "      <td>0</td>\n",
       "      <td>U.S. MINOR OUTLYING ISLANDS</td>\n",
       "    </tr>\n",
       "    <tr>\n",
       "      <th>286</th>\n",
       "      <td>URUGUAY</td>\n",
       "      <td>0</td>\n",
       "      <td>ORIENTAL REPUBLIC OF URUGUAY</td>\n",
       "    </tr>\n",
       "    <tr>\n",
       "      <th>287</th>\n",
       "      <td>UZBEKISTAN</td>\n",
       "      <td>0</td>\n",
       "      <td>REPUBLIC OF UZBEKISTAN</td>\n",
       "    </tr>\n",
       "    <tr>\n",
       "      <th>288</th>\n",
       "      <td>VANUATU</td>\n",
       "      <td>0</td>\n",
       "      <td>REPUBLIC OF VANUATU</td>\n",
       "    </tr>\n",
       "    <tr>\n",
       "      <th>289</th>\n",
       "      <td>VENEZUELA</td>\n",
       "      <td>2</td>\n",
       "      <td>REPUBLIC OF VENEZUELA</td>\n",
       "    </tr>\n",
       "    <tr>\n",
       "      <th>290</th>\n",
       "      <td>VENEZUELA</td>\n",
       "      <td>0</td>\n",
       "      <td>BOLIVARIAN REPUBLIC OF VENEZUELA</td>\n",
       "    </tr>\n",
       "    <tr>\n",
       "      <th>291</th>\n",
       "      <td>VENEZUELA</td>\n",
       "      <td>1</td>\n",
       "      <td>UNITED STATES OF VENEZUELA</td>\n",
       "    </tr>\n",
       "    <tr>\n",
       "      <th>292</th>\n",
       "      <td>VIETNAM</td>\n",
       "      <td>0</td>\n",
       "      <td>VIET NAM</td>\n",
       "    </tr>\n",
       "    <tr>\n",
       "      <th>293</th>\n",
       "      <td>VIETNAM</td>\n",
       "      <td>1</td>\n",
       "      <td>SOCIALIST REPUBLIC OF VIETNAM</td>\n",
       "    </tr>\n",
       "    <tr>\n",
       "      <th>294</th>\n",
       "      <td>VIRGIN ISLANDS (UK)</td>\n",
       "      <td>2</td>\n",
       "      <td>BVI</td>\n",
       "    </tr>\n",
       "    <tr>\n",
       "      <th>295</th>\n",
       "      <td>VIRGIN ISLANDS (UK)</td>\n",
       "      <td>3</td>\n",
       "      <td>B.V.I.</td>\n",
       "    </tr>\n",
       "    <tr>\n",
       "      <th>296</th>\n",
       "      <td>VIRGIN ISLANDS (UK)</td>\n",
       "      <td>1</td>\n",
       "      <td>VIRGIN ISLANDS, BRITISH</td>\n",
       "    </tr>\n",
       "    <tr>\n",
       "      <th>297</th>\n",
       "      <td>VIRGIN ISLANDS (UK)</td>\n",
       "      <td>0</td>\n",
       "      <td>BRITISH VIRGIN ISLANDS</td>\n",
       "    </tr>\n",
       "    <tr>\n",
       "      <th>298</th>\n",
       "      <td>VIRGIN ISLANDS (US)</td>\n",
       "      <td>0</td>\n",
       "      <td>U.S. VIRGIN ISLANDS</td>\n",
       "    </tr>\n",
       "    <tr>\n",
       "      <th>299</th>\n",
       "      <td>VIRGIN ISLANDS (US)</td>\n",
       "      <td>2</td>\n",
       "      <td>VIRGIN ISLANDS OF THE UNITED STATES</td>\n",
       "    </tr>\n",
       "    <tr>\n",
       "      <th>300</th>\n",
       "      <td>VIRGIN ISLANDS (US)</td>\n",
       "      <td>1</td>\n",
       "      <td>UNITED STATES VIRGIN ISLANDS</td>\n",
       "    </tr>\n",
       "    <tr>\n",
       "      <th>301</th>\n",
       "      <td>WALLIS &amp; FUTUNA</td>\n",
       "      <td>0</td>\n",
       "      <td>WALLIS AND FUTUNA</td>\n",
       "    </tr>\n",
       "    <tr>\n",
       "      <th>302</th>\n",
       "      <td>WESTERN SAHARA</td>\n",
       "      <td>1</td>\n",
       "      <td>SPANISH SAHARA</td>\n",
       "    </tr>\n",
       "    <tr>\n",
       "      <th>303</th>\n",
       "      <td>WESTERN SAHARA</td>\n",
       "      <td>0</td>\n",
       "      <td>SPANISH WESTERN SAHARA</td>\n",
       "    </tr>\n",
       "    <tr>\n",
       "      <th>304</th>\n",
       "      <td>YEMEN</td>\n",
       "      <td>0</td>\n",
       "      <td>REPUBLIC OF YEMEN</td>\n",
       "    </tr>\n",
       "    <tr>\n",
       "      <th>305</th>\n",
       "      <td>ZAMBIA</td>\n",
       "      <td>1</td>\n",
       "      <td>NORTHERN RHODESIA</td>\n",
       "    </tr>\n",
       "    <tr>\n",
       "      <th>306</th>\n",
       "      <td>ZAMBIA</td>\n",
       "      <td>0</td>\n",
       "      <td>REPUBLIC OF ZAMBIA</td>\n",
       "    </tr>\n",
       "    <tr>\n",
       "      <th>307</th>\n",
       "      <td>ZIMBABWE</td>\n",
       "      <td>1</td>\n",
       "      <td>SOUTHERN RHODESIA</td>\n",
       "    </tr>\n",
       "    <tr>\n",
       "      <th>308</th>\n",
       "      <td>ZIMBABWE</td>\n",
       "      <td>0</td>\n",
       "      <td>REPUBLIC OF ZIMBABWE</td>\n",
       "    </tr>\n",
       "  </tbody>\n",
       "</table>\n",
       "<p>309 rows × 3 columns</p>\n",
       "</div>"
      ],
      "text/plain": [
       "                                  country  variable  \\\n",
       "0                             AFGHANISTAN         0   \n",
       "1                           ALAND ISLANDS         1   \n",
       "2                           ALAND ISLANDS         0   \n",
       "3                                 ALBANIA         0   \n",
       "4                                 ALGERIA         0   \n",
       "5                                 ANDORRA         0   \n",
       "6                                  ANGOLA         0   \n",
       "7                               ARGENTINA         0   \n",
       "8                                 ARMENIA         0   \n",
       "9                               AUSTRALIA         0   \n",
       "10                                AUSTRIA         0   \n",
       "11                             AZERBAIJAN         0   \n",
       "12                                BAHAMAS         1   \n",
       "13                                BAHAMAS         0   \n",
       "14                                BAHRAIN         0   \n",
       "15                                BELARUS         0   \n",
       "16                                BELGIUM         0   \n",
       "17                                  BENIN         0   \n",
       "18                                BERMUDA         1   \n",
       "19                                BERMUDA         0   \n",
       "20                                 BHUTAN         0   \n",
       "21                                BOLIVIA         1   \n",
       "22                                BOLIVIA         0   \n",
       "23      BONAIRE, SAINT EUSTATIUS AND SABA         1   \n",
       "24      BONAIRE, SAINT EUSTATIUS AND SABA         3   \n",
       "25      BONAIRE, SAINT EUSTATIUS AND SABA         2   \n",
       "26      BONAIRE, SAINT EUSTATIUS AND SABA         5   \n",
       "27      BONAIRE, SAINT EUSTATIUS AND SABA         4   \n",
       "28      BONAIRE, SAINT EUSTATIUS AND SABA         0   \n",
       "29                               BOTSWANA         0   \n",
       "..                                    ...       ...   \n",
       "279                        UNITED KINGDOM         5   \n",
       "280                        UNITED KINGDOM         1   \n",
       "281                         UNITED STATES         0   \n",
       "282                         UNITED STATES         1   \n",
       "283                         UNITED STATES         3   \n",
       "284                         UNITED STATES         2   \n",
       "285  UNITED STATES MINOR OUTLYING ISLANDS         0   \n",
       "286                               URUGUAY         0   \n",
       "287                            UZBEKISTAN         0   \n",
       "288                               VANUATU         0   \n",
       "289                             VENEZUELA         2   \n",
       "290                             VENEZUELA         0   \n",
       "291                             VENEZUELA         1   \n",
       "292                               VIETNAM         0   \n",
       "293                               VIETNAM         1   \n",
       "294                   VIRGIN ISLANDS (UK)         2   \n",
       "295                   VIRGIN ISLANDS (UK)         3   \n",
       "296                   VIRGIN ISLANDS (UK)         1   \n",
       "297                   VIRGIN ISLANDS (UK)         0   \n",
       "298                   VIRGIN ISLANDS (US)         0   \n",
       "299                   VIRGIN ISLANDS (US)         2   \n",
       "300                   VIRGIN ISLANDS (US)         1   \n",
       "301                       WALLIS & FUTUNA         0   \n",
       "302                        WESTERN SAHARA         1   \n",
       "303                        WESTERN SAHARA         0   \n",
       "304                                 YEMEN         0   \n",
       "305                                ZAMBIA         1   \n",
       "306                                ZAMBIA         0   \n",
       "307                              ZIMBABWE         1   \n",
       "308                              ZIMBABWE         0   \n",
       "\n",
       "                                        name  \n",
       "0            ISLAMIC REPUBLIC OF AFGHANISTAN  \n",
       "1                                      ÅLAND  \n",
       "2                          PROVINCE OF ÅLAND  \n",
       "3                        REPUBLIC OF ALBANIA  \n",
       "4    PEOPLE’S DEMOCRATIC REPUBLIC OF ALGERIA  \n",
       "5                    PRINCIPALITY OF ANDORRA  \n",
       "6                         REPUBLIC OF ANGOLA  \n",
       "7                         ARGENTINE REPUBLIC  \n",
       "8                        REPUBLIC OF ARMENIA  \n",
       "9                  COMMONWEALTH OF AUSTRALIA  \n",
       "10                       REPUBLIC OF AUSTRIA  \n",
       "11                    REPUBLIC OF AZERBAIJAN  \n",
       "12                               THE BAHAMAS  \n",
       "13               COMMONWEALTH OF THE BAHAMAS  \n",
       "14                        KINGDOM OF BAHRAIN  \n",
       "15                       REPUBLIC OF BELARUS  \n",
       "16                        KINGDOM OF BELGIUM  \n",
       "17                         REPUBLIC OF BENIN  \n",
       "18                            SOMERS ISLANDS  \n",
       "19                              SOMERS ISLES  \n",
       "20                         KINGDOM OF BHUTAN  \n",
       "21                       REPUBLIC OF BOLIVIA  \n",
       "22            PLURINATIONAL STATE OF BOLIVIA  \n",
       "23                           SAINT EUSTATIUS  \n",
       "24                                      SABA  \n",
       "25                            SINT EUSTATIUS  \n",
       "26                               BES ISLANDS  \n",
       "27                  SAINT EUSTATIUS AND SABA  \n",
       "28                                   BONAIRE  \n",
       "29                      REPUBLIC OF BOTSWANA  \n",
       "..                                       ...  \n",
       "279                                     G.B.  \n",
       "280                            GREAT BRITAIN  \n",
       "281                                     U.S.  \n",
       "282                 UNITED STATES OF AMERICA  \n",
       "283                                   U.S.A.  \n",
       "284             THE UNITED STATES OF AMERICA  \n",
       "285              U.S. MINOR OUTLYING ISLANDS  \n",
       "286             ORIENTAL REPUBLIC OF URUGUAY  \n",
       "287                   REPUBLIC OF UZBEKISTAN  \n",
       "288                      REPUBLIC OF VANUATU  \n",
       "289                    REPUBLIC OF VENEZUELA  \n",
       "290         BOLIVARIAN REPUBLIC OF VENEZUELA  \n",
       "291               UNITED STATES OF VENEZUELA  \n",
       "292                                 VIET NAM  \n",
       "293            SOCIALIST REPUBLIC OF VIETNAM  \n",
       "294                                      BVI  \n",
       "295                                   B.V.I.  \n",
       "296                  VIRGIN ISLANDS, BRITISH  \n",
       "297                   BRITISH VIRGIN ISLANDS  \n",
       "298                      U.S. VIRGIN ISLANDS  \n",
       "299      VIRGIN ISLANDS OF THE UNITED STATES  \n",
       "300             UNITED STATES VIRGIN ISLANDS  \n",
       "301                        WALLIS AND FUTUNA  \n",
       "302                           SPANISH SAHARA  \n",
       "303                   SPANISH WESTERN SAHARA  \n",
       "304                        REPUBLIC OF YEMEN  \n",
       "305                        NORTHERN RHODESIA  \n",
       "306                       REPUBLIC OF ZAMBIA  \n",
       "307                        SOUTHERN RHODESIA  \n",
       "308                     REPUBLIC OF ZIMBABWE  \n",
       "\n",
       "[309 rows x 3 columns]"
      ]
     },
     "execution_count": 124,
     "metadata": {},
     "output_type": "execute_result"
    }
   ],
   "source": [
    "#data_new=data.copy()\n",
    "#data=pd.read_excel(\"Copy of DDIQ_Jan2019_EligiblePop.xlsx\",sheet_name=\"Company Full Submission\")\n",
    "country=pd.read_excel(\"country_name.xlsx\")\n",
    "country['country'] = country['country'].str.upper()\n",
    "country['name'] = country['name'].str.upper()\n",
    "data_new[\"Country\"] = data_new[\"Country\"].str.upper()\n",
    "country=country.drop([\"Unnamed: 0\"],axis=1)\n",
    "country\n",
    "# data_new[\"Country\"]"
   ]
  },
  {
   "cell_type": "code",
   "execution_count": 125,
   "metadata": {},
   "outputs": [
    {
     "data": {
      "text/plain": [
       "247"
      ]
     },
     "execution_count": 125,
     "metadata": {},
     "output_type": "execute_result"
    }
   ],
   "source": [
    "## import the country full list\n",
    "country_name=pd.read_excel(\"ddiq country name.xlsx\")\n",
    "\n",
    "#country_list=data_new[\"Country\"].to_list()\n",
    "#len(country_list)\n",
    "three_letter_iso=country_name[\"3 Letter ISO\"].to_list()\n",
    "len(three_letter_iso)\n"
   ]
  },
  {
   "cell_type": "code",
   "execution_count": 126,
   "metadata": {},
   "outputs": [],
   "source": [
    "\n",
    "# 3_iso works\n",
    "## all ran:2m\n",
    "def three_iso_clean(data_new):\n",
    "    \n",
    "    country_list=data_new[\"Country\"].to_list()\n",
    "    for i in range(len(country_list)):\n",
    "        for m in range(len(country_name)):\n",
    "            if country_list[i]==country_name[\"3 Letter ISO\"][m]:\n",
    "                country_list[i]=country_name[\"DDIQ Country Name\"][m]\n",
    "            else:\n",
    "                country_list[i]=country_list[i]\n",
    "\n",
    "    data_new['Country'] = country_list\n",
    "    return data_new['Country']\n",
    "\n"
   ]
  },
  {
   "cell_type": "code",
   "execution_count": 127,
   "metadata": {},
   "outputs": [],
   "source": [
    "## check for the nan in name: Don't have to run\n",
    "# new_name=[]\n",
    "# name2=[]\n",
    "# index2=[]\n",
    "# name=data_new['Country'].to_list()\n",
    "# for i in range(len(name)):\n",
    "#     if type(name[i])==float:\n",
    "#         name2.append(name[i])\n",
    "#         index2.append(i)\n",
    "# index2"
   ]
  },
  {
   "cell_type": "code",
   "execution_count": null,
   "metadata": {},
   "outputs": [],
   "source": [
    "three_iso_clean(data_new)\n",
    "data_new[\"Country\"].unique()\n"
   ]
  },
  {
   "cell_type": "code",
   "execution_count": null,
   "metadata": {},
   "outputs": [],
   "source": [
    "data_new[\"Country\"]=data_new[\"Country\"].astype(str)\n",
    "data_new[\"Country\"]=data_new[\"Country\"].replace(\"nan\",\" \")\n",
    "#data_new[\"Country\"][836]\n",
    "#data_new[\"Country\"][243]"
   ]
  },
  {
   "cell_type": "code",
   "execution_count": null,
   "metadata": {
    "scrolled": true
   },
   "outputs": [],
   "source": [
    "## country clean trim space\n",
    "\n",
    "name=data_new[\"Country\"].to_list()\n",
    "new_country=[]\n",
    "\n",
    "for i in range(len(name)):\n",
    "    str1=name[i].split()  \n",
    "    new_string=\" \".join(str1)\n",
    "    new_country.append(new_string)\n",
    "data_new[\"Country\"]=new_country\n",
    "#print(\"done\")\n",
    "\n",
    "data_new[\"Country\"].unique()"
   ]
  },
  {
   "cell_type": "code",
   "execution_count": null,
   "metadata": {
    "scrolled": true
   },
   "outputs": [],
   "source": [
    "## further clean\n",
    "data_new['Country']=data_new['Country'].replace(\"NA\", \" \").replace(\"UNKNOWN COUNTRY\",\" \").replace(\"(blank)\",\" \").replace(\"(CASH) WORLD\", \" \").replace(\"NA\",\" \").replace(\"(BLANK)\",\" \")\n",
    "data_new['Country']=data_new['Country'].str.upper()\n",
    "array=data_new['Country'].unique()\n",
    "array\n"
   ]
  },
  {
   "cell_type": "code",
   "execution_count": null,
   "metadata": {
    "scrolled": true
   },
   "outputs": [],
   "source": [
    "# country[\"country\"].unique()\n",
    "# extra_country=country[\"country\"].to_list()\n",
    "\n",
    "##upper case\n",
    "country=pd.read_excel(\"country_name.xlsx\")\n",
    "country_list_ddiq=pd.read_excel(\"country_list_ddiq.xlsx\")\n",
    "country[\"country\"]=country[\"country\"].str.upper()\n",
    "country[\"name\"]=country[\"name\"].str.upper()\n",
    "country_list_ddiq[\"DDIQ Country Name\"]=country_list_ddiq[\"DDIQ Country Name\"].str.upper()\n",
    "\n",
    "## make the full list\n",
    "country_ddiq=country[\"country\"].to_list()\n",
    "country_alias=country[\"name\"].to_list()\n",
    "country_list_ddiq=country_list_ddiq[\"DDIQ Country Name\"].to_list()\n",
    "country_full=country_ddiq+country_alias+country_list_ddiq\n",
    "\n",
    "## deduplicate the list\n",
    "output = []\n",
    "for x in country_full:\n",
    "    if x not in output:\n",
    "        output.append(x)\n",
    "len(output)"
   ]
  },
  {
   "cell_type": "code",
   "execution_count": null,
   "metadata": {},
   "outputs": [],
   "source": [
    "## start to run 5:25 start for all 2m to finish\n",
    "test=data_new[\"Country\"].str.upper().to_list()\n",
    "test1=test\n",
    "\n",
    "## clean last-vlookup\n",
    "#test=data_new[\"Country\"].to_list()\n",
    "\n",
    "lst=[]\n",
    "index=[]\n",
    "lst_same=[]\n",
    "index_same=[]\n",
    "for i in range(len(test1)):\n",
    "    for m in range(len(country)):\n",
    "        if (test1[i]==country[\"name\"][m]):\n",
    "            test1[i]=country[\"country\"][m]\n",
    "        elif test1[i] not in country_full:\n",
    "            index.append(i)\n",
    "            lst.append(test1[i])\n",
    "        else:\n",
    "            test1[i]=test1[i]\n",
    "\n",
    "list_of_tuples = list(zip(index, lst))\n",
    "df = pd.DataFrame(list_of_tuples, columns = ['index', 'country']) \n",
    "df[\"country\"].unique()"
   ]
  },
  {
   "cell_type": "code",
   "execution_count": null,
   "metadata": {
    "scrolled": true
   },
   "outputs": [],
   "source": [
    "\n",
    "data_new[\"Country\"]=test1\n",
    "data_new[\"Country\"].unique()\n"
   ]
  },
  {
   "cell_type": "code",
   "execution_count": null,
   "metadata": {
    "scrolled": true
   },
   "outputs": [],
   "source": [
    "## replace the values not in the country list (KEEP ADDING)\n",
    "data_new[\"Country\"]=data_new[\"Country\"].replace('GUERNSEY, C.I','GUERNSEY').replace('(BLANK)',\" \").replace('VIRGIN ISLANDS (BRITISH)','Virgin Islands (UK)').replace('JERSEY, C.I.','JERSEY').replace('ABU DHABI','UNITED ARAB EMIRATES').replace('TANZANIA, UNITED REP. OF','TANZANIA').replace(\"KOREA, DEM PEOPLE'S REP.\",\"NORTH KOREA\").replace('KOREA, REPUBLIC OF','SOUTH KOREA').replace(\"VIRGIN ISLANDS, U.S.\",\"Virgin Islands (US)\").replace('CANARIES ISLAND','SPAIN').replace('CONGO',\" \").replace('DUBAI','UNITED ARAB EMIRATES').replace('EUROPEAN CENTRAL BANK-ECB',' ').replace('BRITISH INDIAN OCEAN TER.','BRITISH INDIAN OCEAN TERRITORY').replace('MOLDOVA (REPUBLIC OF)','MOLDOVA').replace('MACEDONIA, THE FORMER YU','MACEDONIA').replace('WORLD',' ').replace('THE STATE OF PALESTINE','PALESTINIAN TERRITORIES').replace(\"KYRGIZSTAN\",\"KYRGYZSTAN\")                                                \n",
    "data_new[\"Country\"].unique()\n",
    "\n",
    "\n",
    "\n",
    "\n"
   ]
  },
  {
   "cell_type": "code",
   "execution_count": null,
   "metadata": {},
   "outputs": [],
   "source": [
    "len(test1)"
   ]
  },
  {
   "cell_type": "code",
   "execution_count": null,
   "metadata": {},
   "outputs": [],
   "source": [
    "data_new.to_excel(\"country_cleaned_socgen_c4.xlsx\")"
   ]
  },
  {
   "cell_type": "code",
   "execution_count": null,
   "metadata": {},
   "outputs": [],
   "source": [
    "#data_new"
   ]
  },
  {
   "cell_type": "markdown",
   "metadata": {},
   "source": [
    "# Address Parsing and Grouping"
   ]
  },
  {
   "cell_type": "code",
   "execution_count": null,
   "metadata": {},
   "outputs": [],
   "source": [
    "data_new=pd.read_excel(\"country_cleaned_socgen_c4.xlsx\")\n",
    "# country_name=pd.read_excel(\"\")\n",
    "data_new[\"Location 1 Country\"].unique()\n",
    "data_new[\"Location 1 Country\"]=data_new[\"Location 1 Country\"].replace(np.nan,\" \")"
   ]
  },
  {
   "cell_type": "code",
   "execution_count": null,
   "metadata": {},
   "outputs": [],
   "source": [
    "data_new[\"Location 1 Country\"].unique()"
   ]
  },
  {
   "cell_type": "code",
   "execution_count": null,
   "metadata": {
    "scrolled": true
   },
   "outputs": [],
   "source": [
    "# run when location1 is 3 iso\n",
    "\n",
    "\n",
    "data_new[\"Location 1 Country\"] = data_new[\"Location 1 Country\"].str.upper()\n",
    "country_list_location1=data_new[\"Location 1 Country\"].to_list()\n",
    "\n",
    "# 3_iso works\n",
    "## all ran:2m\n",
    "#country_list_location1=[]\n",
    "for i in range(len(country_list_location1)):\n",
    "    for m in range(len(country_name)):\n",
    "        if country_list_location1[i]==country_name[\"3 Letter ISO\"][m]:\n",
    "            country_list_location1[i]=country_name[\"DDIQ Country Name\"][m]\n",
    "        else:\n",
    "            country_list_location1[i]=country_list_location1[i]\n",
    "\n",
    "data_new['Location 1 Country'] = country_list_location1\n",
    "data_new['Location 1 Country']=data_new['Location 1 Country'].replace(\"nan\",np.nan)\n",
    "data_new[\"Location 1 Country\"].unique()\n",
    "#data_new[\"Country\"].unique()"
   ]
  },
  {
   "cell_type": "code",
   "execution_count": null,
   "metadata": {
    "scrolled": true
   },
   "outputs": [],
   "source": [
    "## added: company name upper case; country upper case; \"NAN\" ; Fix ZIP, CITY and STATE\n",
    "data_new[\"Company Name *\"]=data_new[\"Company Name *\"].str.upper()\n",
    "data_new[\"Location 1 Country\"]=data_new[\"Location 1 Country\"].str.upper()\n",
    "data_new[\"Location 1 Country\"]=data_new[\"Location 1 Country\"].replace(\"NAN\",\" \")\n",
    "data_new[\"Country\"]=data_new[\"Country\"].replace(\"NAN\",\" \")\n",
    "data_new[\"City\"]=data_new[\"City\"].replace(\"0\",np.nan).replace(\"n..a\",np.nan).replace(\"Na\",np.nan).replace(\"N/a\",np.nan).replace(\"n/A\",np.nan)                                 \n",
    "data_new[\"ZipPostal\"]=data_new[\"ZipPostal\"].replace(\"0\",np.nan).replace(\"n..a\",np.nan).replace(\"Na\",np.nan).replace(\"N/a\",np.nan).replace(\"n/A\",np.nan)\n",
    "data_new[\"StateProv\"]=data_new[\"StateProv\"].replace(\"0\",np.nan)\n",
    "data_new[\"Location 1 Country\"].unique()\n",
    "#data_new[\"City\"].unique()\n"
   ]
  },
  {
   "cell_type": "code",
   "execution_count": null,
   "metadata": {
    "scrolled": true
   },
   "outputs": [],
   "source": [
    "new_df=data_new[[\"Company Name *\",\"Location 1 Address\",\"Location 1 City\",\"Location 1 StateProv\",\"Location 1 ZipPostal\",\"Location 1 Country\",\"Submission Id\",\"identifier\"]]\n",
    "\n",
    "new_df=new_df.rename(columns={\"Location 1 Address\":\"Address\",\n",
    "                              \"Location 1 City\":\"City\",\n",
    "                              \"Location 1 StateProv\":\"StateProv\", \n",
    "                              \"Location 1 ZipPostal\":\"ZipPostal\",\n",
    "                             \"Location 1 Country\":\"Country\"})\n",
    "new_df[\"s_id\"]=0\n",
    "\n",
    "\n",
    "\n",
    "\n",
    "old_df=data_new[[\"Company Name *\",\"Address\",\"City\",\"StateProv\",\"ZipPostal\",\"Country\",\"Submission Id\",\"identifier\"]]\n",
    "old_df[\"s_id\"]=1\n",
    "concat=pd.concat([new_df,old_df], join=\"outer\")"
   ]
  },
  {
   "cell_type": "code",
   "execution_count": null,
   "metadata": {
    "scrolled": true
   },
   "outputs": [],
   "source": [
    "# concat[\"Submission Id\"]=concat[\"Submission Id\"].astype(str).replace(\"nan\",\"99999999999\")\n",
    "# concat[\"Submission Id\"]=concat[\"Submission Id\"].astype(int)\n",
    "# concat"
   ]
  },
  {
   "cell_type": "code",
   "execution_count": null,
   "metadata": {},
   "outputs": [],
   "source": [
    "# sort on address, submission id and name (name,subID,country,s_id)\n",
    "concat = concat.sort_values(['Company Name *','Submission Id',\"Country\",'s_id'], ascending=[True,True,False,False])\n",
    "\n",
    "h=concat.groupby(['Company Name *']).agg({\"identifier\":\"unique\"})\n",
    "\n",
    "\n",
    "#concate the data and deduplicate\n",
    "concat[\"concat\"] = concat['Address'].map(str) +' ' + concat['City'].map(str) +' ' + concat['StateProv'].map(str)+' ' + concat['ZipPostal'].map(str)+' '+concat['Country'].map(str)\n",
    "data_dedupli=concat.drop_duplicates(subset=['Company Name *','concat'], keep=\"first\")\n",
    "\n",
    "##group by\n",
    "g=data_dedupli.groupby(['Company Name *']).agg({'Address':lambda x: list(x),\n",
    "                                              'City':lambda x: list(x),\n",
    "                                             'StateProv':lambda x: list(x),\n",
    "                                             'ZipPostal':lambda x: list(x),\n",
    "                                             \"Country\":lambda x: list(x)})\n",
    "\n",
    "\n",
    "\n",
    "## change into workbench format: need to include city, state, country name change\n",
    "h.reset_index(inplace=True)\n",
    "g.reset_index(inplace=True)"
   ]
  },
  {
   "cell_type": "code",
   "execution_count": null,
   "metadata": {},
   "outputs": [],
   "source": [
    "#data_dedupli.to_excel(\"duplicates_check.xlsx\")\n",
    "g"
   ]
  },
  {
   "cell_type": "code",
   "execution_count": null,
   "metadata": {},
   "outputs": [],
   "source": [
    "address=g[[\"Company Name *\",\"Address\"]]\n",
    "address=address.Address.apply(pd.Series).merge(address, left_index = True, right_index = True).drop([\"Address\"],axis=1)\n",
    "address_final=address[[\"Company Name *\",0,1,2,3,4,5,6,7,8,9,10]]\n",
    "address_final=address_final.rename(columns={0: \"Address\",1:\"Location 1 Address\",2:\"Location 2 Address\",\n",
    "                              3:\"Location 3 Address\", 4:\"Location 4 Address\", 5:\"Location 5 Address\",\n",
    "                              6:\"Location 6 Address\",7:\"Location 7 Address\",8:\"Location 8 Address\",\n",
    "                              9:\"Location 9 Address\",10:\"Location 10 Address\"})\n",
    "\n",
    "\n",
    "\n",
    "address_final=address_final.merge(g,how='inner', left_on=\"Company Name *\", right_on=\"Company Name *\")\n",
    "\n",
    "#address_final"
   ]
  },
  {
   "cell_type": "code",
   "execution_count": null,
   "metadata": {},
   "outputs": [],
   "source": [
    "## City code\n",
    "city_code=g[[\"Company Name *\",\"City\"]]\n",
    "city_code=city_code.City.apply(pd.Series).merge(city_code, left_index = True, right_index = True)\n",
    "city_code=city_code[[\"Company Name *\",0,1,2,3,4,5,6,7,8,9,10]].rename(columns={0: \"City\",1:\"Location 1 City\",\n",
    "                                                                         2:\"Location 2 City\",\n",
    "                              3:\"Location 3 City\", 4:\"Location 4 City\", 5:\"Location 5 City\",\n",
    "                              6:\"Location 6 City\",7:\"Location 7 City\",8:\"Location 8 City\",\n",
    "                              9:\"Location 9 City\",10:\"Location 10 City\"})\n",
    "\n",
    "city_code=city_code.merge(g,how='inner', left_on=\"Company Name *\", right_on=\"Company Name *\")\n",
    "#,6,7,8,9,10   \n",
    "# city_code"
   ]
  },
  {
   "cell_type": "code",
   "execution_count": null,
   "metadata": {},
   "outputs": [],
   "source": [
    "## StateProv\n",
    "#[\"Company Name *\",0,1,2,3,4,5,6,7,8,9,10]]\n",
    "#,6,7\n",
    "StateProv_code=g[[\"Company Name *\",\"StateProv\"]]\n",
    "StateProv_code=StateProv_code.StateProv.apply(pd.Series).merge(StateProv_code, left_index = True, right_index = True)\n",
    "StateProv_code=StateProv_code[[\"Company Name *\",0,1,2,3,4,5,6,7,8,9,10]].rename(columns={0: \"StateProv\",1:\"Location 1 StateProv\",\n",
    "                                                                          2:\"Location 2 StateProv\",\n",
    "                              3:\"Location 3 StateProv\", 4:\"Location 4 StateProv\", 5:\"Location 5 StateProv\",\n",
    "                              6:\"Location 6 StateProv\",7:\"Location 7 StateProv\",8:\"Location 8 StateProv\",\n",
    "                                9:\"Location 9 StateProv\",10:\"Location 10 StateProv\"                                           })\n",
    "\n",
    "StateProv_code=StateProv_code.merge(g,how='inner', left_on=\"Company Name *\", right_on=\"Company Name *\")\n",
    "# StateProv_code\n",
    "\n"
   ]
  },
  {
   "cell_type": "code",
   "execution_count": null,
   "metadata": {},
   "outputs": [],
   "source": [
    "## zip code\n",
    "#,6,7,8,9,10\n",
    "zip_code=g[[\"Company Name *\",\"ZipPostal\"]]\n",
    "zip_code=zip_code.ZipPostal.apply(pd.Series).merge(zip_code, left_index = True, right_index = True)\n",
    "zip_code=zip_code[[\"Company Name *\",0,1,2,3,4,5,6,7,8,9,10]].rename(columns={0: \"ZipPostal\",1:\"Location 1 ZipPostal\",\n",
    "                                                                          2:\"Location 2 ZipPostal\",\n",
    "                              3:\"Location 3 ZipPostal\", 4:\"Location 4 ZipPostal\", 5:\"Location 5 ZipPostal\",\n",
    "                              6:\"Location 6 ZipPostal\",7:\"Location 7 ZipPostal\",8:\"Location 8 ZipPostal\",\n",
    "                              9:\"Location 9 ZipPostal\",10:\"Location 10 ZipPostal\"})\n",
    "zip_code=zip_code.merge(g,how='inner', left_on=\"Company Name *\", right_on=\"Company Name *\")\n",
    "# zip_code"
   ]
  },
  {
   "cell_type": "code",
   "execution_count": null,
   "metadata": {},
   "outputs": [],
   "source": [
    "## country code\n",
    "#,6,7,8,9,10\n",
    "c_code=g[[\"Company Name *\",\"Country\"]]\n",
    "c_code=c_code.Country.apply(pd.Series).merge(c_code, left_index = True, right_index = True)\n",
    "c_code=c_code[[\"Company Name *\",0,1,2,3,4,5,6,7,8,9,10]].rename(columns={0: \"Country\",1:\"Location 1 Country\",\n",
    "                                                                          2:\"Location 2 Country\",\n",
    "                              3:\"Location 3 Country\", 4:\"Location 4 Country\", 5:\"Location 5 Country\",\n",
    "                              6:\"Location 6 Country\",7:\"Location 7 Country\",8:\"Location 8 Country\",\n",
    "                              9:\"Location 9 Country\", 10:\"Location 10 Country\"\n",
    "                                                             })\n",
    "c_code=c_code.merge(g,how='inner', left_on=\"Company Name *\", right_on=\"Company Name *\")\n",
    "# c_code"
   ]
  },
  {
   "cell_type": "code",
   "execution_count": null,
   "metadata": {},
   "outputs": [],
   "source": [
    "data_frames4 = [address_final, city_code, StateProv_code,zip_code,c_code]\n",
    "df_merged4 = reduce(lambda  left,right: pd.merge(left,right,on=['Company Name *'],\n",
    "                                            how='outer'), data_frames4)\n",
    "df_merged4=df_merged4.rename(columns={\"Address_x\": \"Address\",\n",
    "                          \"City_y\":\"City\",\n",
    "                          \"StateProv_y\":\"StateProv\",\n",
    "                          \"ZipPostal_y\":\"ZipPostal\", \n",
    "                          \"Country_y\":\"Country\"})"
   ]
  },
  {
   "cell_type": "code",
   "execution_count": null,
   "metadata": {},
   "outputs": [],
   "source": [
    "#df_merged4.to_excel(\"address_qa778.xlsx\")"
   ]
  },
  {
   "cell_type": "code",
   "execution_count": null,
   "metadata": {},
   "outputs": [],
   "source": [
    "df_merged4[0:1000]"
   ]
  },
  {
   "cell_type": "code",
   "execution_count": null,
   "metadata": {},
   "outputs": [],
   "source": []
  },
  {
   "cell_type": "markdown",
   "metadata": {},
   "source": [
    "# submission ID"
   ]
  },
  {
   "cell_type": "code",
   "execution_count": null,
   "metadata": {
    "scrolled": true
   },
   "outputs": [],
   "source": [
    "#data_new=pd.read_excel(\"country_cleaned_socgen_c4.xlsx\")\n",
    "#data_new=data.copy()"
   ]
  },
  {
   "cell_type": "code",
   "execution_count": null,
   "metadata": {
    "scrolled": true
   },
   "outputs": [],
   "source": [
    "# ## format clean run for the submission ID takes 30m to run \n",
    "# for i in range(len(data_new)):\n",
    "#     if data_new[\"Submission Id\"][i]!=np.nan:\n",
    "#         data_new[\"Submission Id\"][i]=data_new[\"Submission Id\"][i].astype(int)"
   ]
  },
  {
   "cell_type": "code",
   "execution_count": null,
   "metadata": {},
   "outputs": [],
   "source": [
    "data_new.head()"
   ]
  },
  {
   "cell_type": "code",
   "execution_count": null,
   "metadata": {},
   "outputs": [],
   "source": [
    "# data_new[\"Submission Id\"]=data_new[\"Submission Id\"].astype(str)\n",
    "# data_new[\"Submission Id\"]=data_new[\"Submission Id\"].replace('nan',\"-9223372036854775808\")\n",
    "# data_new[\"Submission Id\"]=data_new[\"Submission Id\"].astype(int)\n",
    "# #data_new[\"Submission Id\"][1]"
   ]
  },
  {
   "cell_type": "code",
   "execution_count": null,
   "metadata": {
    "scrolled": true
   },
   "outputs": [],
   "source": [
    "data_new['Submission Id'] = data_new['Submission Id'].fillna(-9223372036854775808).astype(int)\n",
    "data_new[\"Submission Id\"]"
   ]
  },
  {
   "cell_type": "code",
   "execution_count": null,
   "metadata": {
    "scrolled": true
   },
   "outputs": [],
   "source": [
    "data_new[\"Company Name *\"]=data_new[\"Company Name *\"].str.upper()\n",
    "group_id=data_new.groupby(['Company Name *']).agg({'Submission Id':'unique'})\n",
    "group_id=group_id.rename(columns={'Submission Id':'old_id'})\n",
    "group_id.reset_index(inplace=True)\n",
    "#group_id\n",
    "print(\"DONE\")"
   ]
  },
  {
   "cell_type": "code",
   "execution_count": null,
   "metadata": {},
   "outputs": [],
   "source": [
    "## nested list for submission_id\n",
    "old_id=group_id['old_id'].to_list()\n",
    "lst_id=[]\n",
    "for i in range(len(old_id)):\n",
    "    lst_id.append(old_id[i].tolist())\n",
    "lst_id"
   ]
  },
  {
   "cell_type": "code",
   "execution_count": null,
   "metadata": {},
   "outputs": [],
   "source": [
    "## nested list loop------> SORT\n",
    "lst22=[]\n",
    "lst23=[]\n",
    "index22=[]\n",
    "\n",
    "for i in range(len(lst_id)):\n",
    "    #for m in range(len(lst_id[i])):   \n",
    "    lst22=sorted(lst_id[i])\n",
    "    lst23.append(lst22)\n",
    "        \n",
    "print(\"DONE\")"
   ]
  },
  {
   "cell_type": "code",
   "execution_count": null,
   "metadata": {},
   "outputs": [],
   "source": [
    "## convert back to string\n",
    "for i in range(len(lst23)):\n",
    "    for m in range(len(lst23[i])): \n",
    "        lst23[i][m]=str(lst23[i][m])\n",
    "print(\"DONE\")\n",
    "#lst23"
   ]
  },
  {
   "cell_type": "code",
   "execution_count": null,
   "metadata": {},
   "outputs": [],
   "source": [
    "### nested list loop------> separate the KAP\n",
    "\n",
    "lst25=[]\n",
    "lst24=[]\n",
    "index=[]\n",
    "seperator='-'\n",
    "for i in range(len(lst23)):\n",
    "    for m in range(len(lst23[i])):   \n",
    "        if (len(lst23[i])==1)&(lst23[i][m]==\"-9223372036854775808\"):\n",
    "            ##KAP\n",
    "            lst25.append(\"KAP\")\n",
    "            index.append(i)\n",
    "        if (len(lst23[i])>=1)&('-9223372036854775808' in lst23[i]):\n",
    "            lst25.append(\"BDRId:\"+\" \"+seperator.join(lst23[i][1::])+\" + KAP\")\n",
    "            #lst25.append(10)\n",
    "            index.append(i)\n",
    "        else:\n",
    "            ##NUMS\n",
    "            #lst25.append(2)\n",
    "            lst25.append(\"BDRId:\"+\" \"+seperator.join(lst23[i]))\n",
    "            index.append(i)\n",
    "            \n",
    "list_of_tuples = list(zip(index, lst25))\n",
    "sub= pd.DataFrame(list_of_tuples, columns = ['index', 'Profile Sub id']) \n",
    "sub=sub.drop_duplicates(subset=['index'], keep=\"first\")\n",
    "subresult = pd.merge(group_id, sub, left_index=True, right_on=\"index\", how='inner')\n",
    "subresult=subresult.reset_index()\n",
    "print(\"DONE\")"
   ]
  },
  {
   "cell_type": "code",
   "execution_count": null,
   "metadata": {
    "scrolled": true
   },
   "outputs": [],
   "source": [
    "#subresult.to_excel(\"QA3334.xlsx\")"
   ]
  },
  {
   "cell_type": "code",
   "execution_count": null,
   "metadata": {
    "scrolled": true
   },
   "outputs": [],
   "source": [
    "subresult.head()"
   ]
  },
  {
   "cell_type": "code",
   "execution_count": null,
   "metadata": {},
   "outputs": [],
   "source": [
    "##len==1 and lst23[i][m]<0--> append KAP"
   ]
  },
  {
   "cell_type": "markdown",
   "metadata": {},
   "source": [
    "# Look Back Date (Skip)\n"
   ]
  },
  {
   "cell_type": "code",
   "execution_count": null,
   "metadata": {},
   "outputs": [],
   "source": [
    "# ## the fake replace date need to be changed in the DEC 2020\n",
    "# #data_new=pd.read_excel(\"country_cleaned_socgen_c1.xlsx\")\n",
    "# data=data_new.copy()\n",
    "# data[\"Lookback Period Start date\"]=data[\"Lookback Period Start date\"].replace(np.nan,\"12/12/2040\")\n",
    "\n",
    "# ## need to be completed the grouping\n",
    "# look_back=data.groupby(['Company Name *']).agg({'Lookback Period Start date':'unique'})\n",
    "# look_back.reset_index(inplace=True)\n",
    "\n"
   ]
  },
  {
   "cell_type": "code",
   "execution_count": null,
   "metadata": {
    "scrolled": true
   },
   "outputs": [],
   "source": [
    "# ## convert list of array to nested list\n",
    "# lst=look_back[\"Lookback Period Start date\"].to_list()\n",
    "# lst11=[]\n",
    "# for i in range(len(lst)):\n",
    "#     lst11.append(lst[i].tolist())\n",
    "# lst11"
   ]
  },
  {
   "cell_type": "code",
   "execution_count": null,
   "metadata": {},
   "outputs": [],
   "source": [
    "# ## change str to datetime object\n",
    "# for i in range(len(lst11)):\n",
    "#     for m in range(len(lst11[i])):\n",
    "#         if type(lst11[i][m])==str:\n",
    "#             lst11[i][m]=datetime.strptime(lst11[i][m], \"%m/%d/%Y\").strftime('%Y-%m-%d')\n",
    "#             lst11[i][m]=datetime.strptime(lst11[i][m], '%Y-%m-%d')\n",
    "# print(\"Done\")"
   ]
  },
  {
   "cell_type": "code",
   "execution_count": null,
   "metadata": {},
   "outputs": [],
   "source": [
    "# ## get the smallest in the sub list\n",
    "# lst2=[]\n",
    "# for i in range(len(lst11)):\n",
    "#     t=min(lst11[i])\n",
    "#     lst2.append(t)\n",
    "# print(\"Done\")"
   ]
  },
  {
   "cell_type": "code",
   "execution_count": null,
   "metadata": {},
   "outputs": [],
   "source": [
    "# ## change back to str for replace\n",
    "# for i in range(len(lst2)):\n",
    "#     lst2[i]=lst2[i].strftime('%Y-%m-%d')\n",
    "# print(\"Done\")"
   ]
  },
  {
   "cell_type": "code",
   "execution_count": null,
   "metadata": {
    "scrolled": true
   },
   "outputs": [],
   "source": [
    "# look_back[\"Lookback Period Start date_final\"]=lst2\n",
    "# look_back[\"Lookback Period Start date_final\"]=look_back[\"Lookback Period Start date_final\"].replace(\"2040-12-12\",np.nan)\n",
    "# look_back"
   ]
  },
  {
   "cell_type": "code",
   "execution_count": null,
   "metadata": {},
   "outputs": [],
   "source": [
    "#look_back.to_excel(\"look_back_qa.xlsx\")"
   ]
  },
  {
   "cell_type": "markdown",
   "metadata": {},
   "source": [
    "# ONNS PROJECT (Skip)"
   ]
  },
  {
   "cell_type": "code",
   "execution_count": null,
   "metadata": {
    "scrolled": true
   },
   "outputs": [],
   "source": [
    "# #data_new=pd.read_excel(\"country_cleaned_socgen_c1.xlsx\")\n",
    "# data=data_new.copy()\n",
    "\n",
    "# ## grouping\n",
    "# onns=data.groupby(['Company Name *']).agg({'Profile status':'unique'})\n",
    "# onns.reset_index(inplace=True)"
   ]
  },
  {
   "cell_type": "code",
   "execution_count": null,
   "metadata": {
    "scrolled": true
   },
   "outputs": [],
   "source": [
    "# ## convert to the nested list\n",
    "# lst3=onns[\"Profile status\"].to_list()\n",
    "# lst4=[]\n",
    "# for i in range(len(lst3)):\n",
    "#     lst4.append(lst3[i].tolist())"
   ]
  },
  {
   "cell_type": "code",
   "execution_count": null,
   "metadata": {
    "scrolled": true
   },
   "outputs": [],
   "source": [
    "# ## nested list loop\n",
    "# lst5=[]\n",
    "# index5=[]\n",
    "\n",
    "# for i in range(len(lst4)):\n",
    "#     for m in range(len(lst4[i])):\n",
    "#         if lst4[i][m]==\"ONNS-Project\":\n",
    "#             lst5.append(\"ONNS-Project\")\n",
    "#             index5.append(i)\n",
    "\n",
    "# list_of_tuples = list(zip(index5, lst5))\n",
    "# onns1 = pd.DataFrame(list_of_tuples, columns = ['index', 'Profile status_final']) \n",
    "# onnsresult = pd.merge(onns, onns1, left_index=True, right_on=\"index\", how='outer')\n",
    "# onnsresult=onnsresult.reset_index()"
   ]
  },
  {
   "cell_type": "code",
   "execution_count": null,
   "metadata": {
    "scrolled": true
   },
   "outputs": [],
   "source": [
    "# data_frames1 = [df_merged4, look_back, onnsresult]\n",
    "# df_merged2 = reduce(lambda  left,right: pd.merge(left,right,on=['Company Name *'],\n",
    "#                                             how='inner'), data_frames1)\n",
    "# df_merged2.columns"
   ]
  },
  {
   "cell_type": "code",
   "execution_count": null,
   "metadata": {},
   "outputs": [],
   "source": [
    "#df_merged2.to_excel(\"QA6.xlsx\")"
   ]
  },
  {
   "cell_type": "markdown",
   "metadata": {},
   "source": [
    "# Submission Type (Done)\n"
   ]
  },
  {
   "cell_type": "code",
   "execution_count": null,
   "metadata": {},
   "outputs": [],
   "source": [
    "# data_new=pd.read_excel(\"country_cleaned_socgen_c1.xlsx\")\n",
    "# data_new[\"Country\"]\n",
    "data_new[\"Country\"]=data_new[\"Country\"].astype(str)"
   ]
  },
  {
   "cell_type": "code",
   "execution_count": null,
   "metadata": {},
   "outputs": [],
   "source": [
    "#concate the data and deduplicate\n",
    "data_new[\"concat\"] = data_new['Address'].map(str) +' ' + data_new['City'].map(str) +' ' + data_new['StateProv'].map(str)+' ' + data_new['ZipPostal'].map(str)+' '+data_new['Country'].map(str)\n",
    "data_dedupli=data_new.drop_duplicates(subset=['Company Name *','concat'], keep=\"first\")\n",
    "data_dedupli\n",
    "\n",
    "g=data_dedupli.groupby(['Company Name *']).agg({'Address':lambda x: list(x),\n",
    "                                              'City':lambda x: list(x),\n",
    "                                             'StateProv':lambda x: list(x),\n",
    "                                             'ZipPostal':lambda x: list(x),\n",
    "                                             \"Country\":lambda x: list(x)})\n",
    "\n",
    "\n",
    "\n",
    "## change into workbench format: need to include city, state, country name change\n",
    "g.reset_index(inplace=True)"
   ]
  },
  {
   "cell_type": "code",
   "execution_count": null,
   "metadata": {},
   "outputs": [],
   "source": [
    "## get the concated country column\n",
    "c_code=g[[\"Company Name *\",\"Country\"]]\n",
    "c_code\n",
    "\n",
    "## convert to thre nested list\n",
    "lst7=c_code[\"Country\"].to_list()\n",
    "lst8=[]\n",
    "for i in range(len(lst7)):\n",
    "    lst8.append(lst7[i])\n",
    "#lst8\n"
   ]
  },
  {
   "cell_type": "code",
   "execution_count": null,
   "metadata": {},
   "outputs": [],
   "source": [
    "## apply multinational rule\n",
    "lst9=[]\n",
    "index9=[]\n",
    "\n",
    "for i in range(len(lst8)):\n",
    "    for m in range(len(lst8[i])):\n",
    "        if (lst8[i][m]==\"\") or (lst8[i][m]==\" \") or (lst8[i][m]==\"nan\") or(lst8[i][m]==np.nan) or (lst8[i][m]==\"NAN\"):\n",
    "            lst9.append(\"MULTINATIONAL\")\n",
    "            index9.append(i)\n",
    "\n",
    "list_of_tuples = list(zip(index9, lst9))\n",
    "subtype = pd.DataFrame(list_of_tuples, columns = ['index', 'Submission Type_final']).drop_duplicates(subset=['index',\"Submission Type_final\"], keep=\"first\")\n",
    "submissonResult = pd.merge(c_code, subtype, left_index=True, right_on=\"index\", how='outer')\n",
    "submissonResult=submissonResult.reset_index()\n",
    "\n"
   ]
  },
  {
   "cell_type": "code",
   "execution_count": null,
   "metadata": {
    "scrolled": true
   },
   "outputs": [],
   "source": [
    "#submissonResult.to_excel(\"sub_qa.xlsx\")"
   ]
  },
  {
   "cell_type": "code",
   "execution_count": null,
   "metadata": {
    "scrolled": true
   },
   "outputs": [],
   "source": [
    "submissonResult\n"
   ]
  },
  {
   "cell_type": "markdown",
   "metadata": {},
   "source": [
    "# merge all"
   ]
  },
  {
   "cell_type": "code",
   "execution_count": null,
   "metadata": {},
   "outputs": [],
   "source": [
    "data_frames5 = [df_merged4, subresult, submissonResult,h]\n",
    "df_merged5 = reduce(lambda  left,right: pd.merge(left,right,on=['Company Name *'],\n",
    "                                            how='outer'), data_frames5)"
   ]
  },
  {
   "cell_type": "code",
   "execution_count": null,
   "metadata": {},
   "outputs": [],
   "source": [
    "df_merged5.columns\n",
    "len(df_merged5)"
   ]
  },
  {
   "cell_type": "code",
   "execution_count": null,
   "metadata": {},
   "outputs": [],
   "source": [
    "df_merged5[0:100]\n"
   ]
  },
  {
   "cell_type": "code",
   "execution_count": null,
   "metadata": {},
   "outputs": [],
   "source": [
    "# re-format\n",
    "df_merged5[\"Additional Data Label 1\"]=\"Lookback Date\"\n",
    "df_merged5[\"Additional Data Value 1\"]=\"01/01/2020\"\n",
    "df_merged5[\"Additional Data Label 2\"]=\"Source Rows\"\n",
    "\n",
    "df_merged5=df_merged5.rename(columns={\"Submission Type_final\":\"Submission Type\",\n",
    "                     \"Profile Sub id\":\"Submission ID\",\n",
    "                     \"identifier\":\"Additional Data Value 2\",\n",
    "                     \"City_x\":\"City\",\n",
    "                     \"StateProv_x_y\":\"StateProv\",\n",
    "                     \"ZipPostal_x_y\":\"ZipPostal\",\n",
    "                     \"Country_x_y\":\"Country\"})"
   ]
  },
  {
   "cell_type": "code",
   "execution_count": null,
   "metadata": {},
   "outputs": [],
   "source": [
    "df_merged5.to_excel(\"final_qa_last7.xlsx\")"
   ]
  },
  {
   "cell_type": "code",
   "execution_count": null,
   "metadata": {},
   "outputs": [],
   "source": []
  },
  {
   "cell_type": "code",
   "execution_count": null,
   "metadata": {},
   "outputs": [],
   "source": []
  },
  {
   "cell_type": "code",
   "execution_count": null,
   "metadata": {},
   "outputs": [],
   "source": []
  },
  {
   "cell_type": "code",
   "execution_count": null,
   "metadata": {},
   "outputs": [],
   "source": []
  },
  {
   "cell_type": "code",
   "execution_count": null,
   "metadata": {},
   "outputs": [],
   "source": []
  },
  {
   "cell_type": "code",
   "execution_count": null,
   "metadata": {},
   "outputs": [],
   "source": []
  },
  {
   "cell_type": "code",
   "execution_count": null,
   "metadata": {},
   "outputs": [],
   "source": []
  },
  {
   "cell_type": "code",
   "execution_count": null,
   "metadata": {},
   "outputs": [],
   "source": []
  },
  {
   "cell_type": "code",
   "execution_count": null,
   "metadata": {},
   "outputs": [],
   "source": []
  },
  {
   "cell_type": "code",
   "execution_count": null,
   "metadata": {},
   "outputs": [],
   "source": []
  },
  {
   "cell_type": "code",
   "execution_count": null,
   "metadata": {},
   "outputs": [],
   "source": []
  }
 ],
 "metadata": {
  "kernelspec": {
   "display_name": "Python 3",
   "language": "python",
   "name": "python3"
  },
  "language_info": {
   "codemirror_mode": {
    "name": "ipython",
    "version": 3
   },
   "file_extension": ".py",
   "mimetype": "text/x-python",
   "name": "python",
   "nbconvert_exporter": "python",
   "pygments_lexer": "ipython3",
   "version": "3.7.3"
  }
 },
 "nbformat": 4,
 "nbformat_minor": 2
}
