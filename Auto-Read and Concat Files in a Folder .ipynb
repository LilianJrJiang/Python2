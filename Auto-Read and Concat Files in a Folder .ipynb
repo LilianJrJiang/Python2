{
 "cells": [
  {
   "cell_type": "code",
   "execution_count": 1,
   "metadata": {},
   "outputs": [],
   "source": [
    "import numpy as np\n",
    "import pandas as pd\n",
    "import os"
   ]
  },
  {
   "cell_type": "markdown",
   "metadata": {},
   "source": [
    "# List of all Files"
   ]
  },
  {
   "cell_type": "code",
   "execution_count": 2,
   "metadata": {},
   "outputs": [
    {
     "data": {
      "text/plain": [
       "'/Users/ljiang/DAT-746 SocGen Mon hide instructions'"
      ]
     },
     "execution_count": 2,
     "metadata": {},
     "output_type": "execute_result"
    }
   ],
   "source": [
    "os.chdir('/Users/ljiang/DAT-746 SocGen Mon hide instructions') \n",
    "path = os.getcwd()\n",
    "path"
   ]
  },
  {
   "cell_type": "code",
   "execution_count": 3,
   "metadata": {},
   "outputs": [
    {
     "data": {
      "text/plain": [
       "'/Users/ljiang/DAT-746 SocGen Mon hide instructions'"
      ]
     },
     "execution_count": 3,
     "metadata": {},
     "output_type": "execute_result"
    }
   ],
   "source": [
    "os.getcwd()"
   ]
  },
  {
   "cell_type": "code",
   "execution_count": 4,
   "metadata": {
    "scrolled": true
   },
   "outputs": [
    {
     "data": {
      "text/plain": [
       "['DAT-746',\n",
       " 'concat socgen new.xlsx',\n",
       " 'SocGen February Submission (Entities) (2.5.18) (v.1).csv',\n",
       " '.DS_Store',\n",
       " 'SocGen May Submission (Entities) (5.9.18).csv',\n",
       " 'SocGenMon January Additions - Entities (1.27.19).xlsx',\n",
       " 'SocGen March Submission (Individuals) (3.23.18) (v.1).csv',\n",
       " 'SocGenMon April Additions - Entities (4.25.19).csv',\n",
       " 'SocGen February Submission (Individuals) (3.5.18) (v.1 - ADDITIONS).csv',\n",
       " 'SocGen January Submission (Individuals) (1.11.18) (v.1).csv']"
      ]
     },
     "execution_count": 4,
     "metadata": {},
     "output_type": "execute_result"
    }
   ],
   "source": [
    "path\n",
    "files = os.listdir(path)\n",
    "files[0:10]"
   ]
  },
  {
   "cell_type": "code",
   "execution_count": 5,
   "metadata": {
    "scrolled": true
   },
   "outputs": [
    {
     "data": {
      "text/plain": [
       "46"
      ]
     },
     "execution_count": 5,
     "metadata": {},
     "output_type": "execute_result"
    }
   ],
   "source": [
    "len(files)"
   ]
  },
  {
   "cell_type": "code",
   "execution_count": 44,
   "metadata": {
    "scrolled": true
   },
   "outputs": [
    {
     "data": {
      "text/plain": [
       "['SocGen February Submission (Entities) (2.5.18) (v.1).csv',\n",
       " 'SocGen May Submission (Entities) (5.9.18).csv',\n",
       " 'SocGen March Submission (Individuals) (3.23.18) (v.1).csv',\n",
       " 'SocGenMon April Additions - Entities (4.25.19).csv',\n",
       " 'SocGen February Submission (Individuals) (3.5.18) (v.1 - ADDITIONS).csv',\n",
       " 'SocGen January Submission (Individuals) (1.11.18) (v.1).csv',\n",
       " 'SocGen July Submission (Individuals) (7.27.18).csv',\n",
       " 'SocGen November Submission (Entities) (11.23.18).csv',\n",
       " 'SocGen August Submission (Individuals) (8.28.18).csv',\n",
       " 'SocGen November Submission (Individuals) (11.26.18).csv']"
      ]
     },
     "execution_count": 44,
     "metadata": {},
     "output_type": "execute_result"
    }
   ],
   "source": [
    "files_csv = [f for f in files if f[-3:] == 'csv']\n",
    "files_csv[0:10]"
   ]
  },
  {
   "cell_type": "code",
   "execution_count": 7,
   "metadata": {},
   "outputs": [
    {
     "data": {
      "text/plain": [
       "38"
      ]
     },
     "execution_count": 7,
     "metadata": {},
     "output_type": "execute_result"
    }
   ],
   "source": [
    "len(files_csv)"
   ]
  },
  {
   "cell_type": "markdown",
   "metadata": {},
   "source": [
    "# Concat First Two and Loop through to Read and Concat the Right Files"
   ]
  },
  {
   "cell_type": "code",
   "execution_count": 8,
   "metadata": {},
   "outputs": [],
   "source": [
    "data1=pd.read_csv(files_csv[0],encoding='latin-1')\n",
    "data2=pd.read_csv(files_csv[1],encoding='latin-1')"
   ]
  },
  {
   "cell_type": "code",
   "execution_count": 9,
   "metadata": {},
   "outputs": [],
   "source": [
    "data1.columns\n",
    "data1.shape\n",
    "data1[\"source_file\"]=files_csv[0]\n",
    "# data1\n",
    "# data1[\"source_file\"].unique()"
   ]
  },
  {
   "cell_type": "code",
   "execution_count": 10,
   "metadata": {
    "scrolled": true
   },
   "outputs": [
    {
     "data": {
      "text/plain": [
       "array(['SocGen May Submission (Entities) (5.9.18).csv'], dtype=object)"
      ]
     },
     "execution_count": 10,
     "metadata": {},
     "output_type": "execute_result"
    }
   ],
   "source": [
    "data2.columns\n",
    "data2.shape\n",
    "data2[\"source_file\"]=files_csv[1]\n",
    "data2[\"source_file\"].unique()"
   ]
  },
  {
   "cell_type": "code",
   "execution_count": 11,
   "metadata": {},
   "outputs": [
    {
     "name": "stderr",
     "output_type": "stream",
     "text": [
      "/Users/ljiang/anaconda3/lib/python3.7/site-packages/ipykernel_launcher.py:1: FutureWarning: Sorting because non-concatenation axis is not aligned. A future version\n",
      "of pandas will change to not sort by default.\n",
      "\n",
      "To accept the future behavior, pass 'sort=False'.\n",
      "\n",
      "To retain the current behavior and silence the warning, pass 'sort=True'.\n",
      "\n",
      "  \"\"\"Entry point for launching an IPython kernel.\n"
     ]
    },
    {
     "data": {
      "text/plain": [
       "array(['SocGen February Submission (Entities) (2.5.18) (v.1).csv',\n",
       "       'SocGen May Submission (Entities) (5.9.18).csv'], dtype=object)"
      ]
     },
     "execution_count": 11,
     "metadata": {},
     "output_type": "execute_result"
    }
   ],
   "source": [
    "data3=pd.concat([data1,data2], axis=0, ignore_index=True)\n",
    "# data3.columns\n",
    "# data3.shape\n",
    "data3\n",
    "data3[\"source_file\"].unique()"
   ]
  },
  {
   "cell_type": "code",
   "execution_count": 12,
   "metadata": {
    "scrolled": false
   },
   "outputs": [
    {
     "name": "stderr",
     "output_type": "stream",
     "text": [
      "/Users/ljiang/anaconda3/lib/python3.7/site-packages/ipykernel_launcher.py:5: FutureWarning: Sorting because non-concatenation axis is not aligned. A future version\n",
      "of pandas will change to not sort by default.\n",
      "\n",
      "To accept the future behavior, pass 'sort=False'.\n",
      "\n",
      "To retain the current behavior and silence the warning, pass 'sort=True'.\n",
      "\n",
      "  \"\"\"\n"
     ]
    }
   ],
   "source": [
    "## concat QA code\n",
    "for i in range(2,38):\n",
    "    df1=pd.read_csv(files_csv[i],encoding='latin-1')\n",
    "    df1[\"source_file\"]=files_csv[i]\n",
    "    data3=pd.concat([df1,data3], axis=0, ignore_index=True)\n",
    "    #data3[\"source_file\"][i]=files_csv[i]"
   ]
  },
  {
   "cell_type": "code",
   "execution_count": null,
   "metadata": {
    "scrolled": true
   },
   "outputs": [],
   "source": [
    "#data3[\"source_file\"].unique()\n"
   ]
  },
  {
   "cell_type": "code",
   "execution_count": null,
   "metadata": {},
   "outputs": [],
   "source": [
    "data3[0:20]"
   ]
  },
  {
   "cell_type": "code",
   "execution_count": null,
   "metadata": {},
   "outputs": [],
   "source": [
    "len(data3['source_file'].unique())\n"
   ]
  },
  {
   "cell_type": "markdown",
   "metadata": {},
   "source": [
    "# Manual import the corrupt file"
   ]
  },
  {
   "cell_type": "code",
   "execution_count": null,
   "metadata": {},
   "outputs": [],
   "source": [
    "os.chdir('/Users/ljiang/Desktop/Rest_of_Socgen') \n",
    "path = os.getcwd()\n",
    "path"
   ]
  },
  {
   "cell_type": "code",
   "execution_count": null,
   "metadata": {},
   "outputs": [],
   "source": [
    "ad_data1=pd.read_csv(\"SocGen April Submission (Entities) (4.18.18).csv\",encoding='latin-1')\n",
    "ad_data1['source_file']=\"SocGen April Submission (Entities) (4.18.18).csv\"\n",
    "ad_data1"
   ]
  },
  {
   "cell_type": "code",
   "execution_count": null,
   "metadata": {},
   "outputs": [],
   "source": [
    "ad_data1=ad_data1.drop(['Unnamed: 22','Unnamed: 23','Unnamed: 24','Unnamed: 25','Unnamed: 26','Unnamed: 27'],axis=1)"
   ]
  },
  {
   "cell_type": "code",
   "execution_count": null,
   "metadata": {},
   "outputs": [],
   "source": [
    "ad_data1.columns"
   ]
  },
  {
   "cell_type": "code",
   "execution_count": null,
   "metadata": {},
   "outputs": [],
   "source": [
    "ad_data2=pd.read_csv(\"SocGen September Submission (Individuals) (9.25.18).csv\",encoding='latin-1')\n",
    "ad_data2['source_file']=\"SocGen September Submission (Individuals) (9.25.18).csv\""
   ]
  },
  {
   "cell_type": "code",
   "execution_count": null,
   "metadata": {},
   "outputs": [],
   "source": [
    "ad_data2=ad_data2.drop(['Unnamed: 21','Unnamed: 22','Unnamed: 23','Unnamed: 24','Unnamed: 25','Unnamed: 26','Unnamed: 27','Unnamed: 28','Unnamed: 29','Unnamed: 30','Unnamed: 31','Unnamed: 32','Unnamed: 33','Unnamed: 34','Unnamed: 35','Unnamed: 36','Unnamed: 37'],axis=1)"
   ]
  },
  {
   "cell_type": "code",
   "execution_count": null,
   "metadata": {
    "scrolled": true
   },
   "outputs": [],
   "source": [
    "ad_data2\n"
   ]
  },
  {
   "cell_type": "code",
   "execution_count": null,
   "metadata": {},
   "outputs": [],
   "source": [
    "## concat all of them \n",
    "data3=pd.concat([data3,ad_data1,ad_data2], axis=0, ignore_index=True)"
   ]
  },
  {
   "cell_type": "code",
   "execution_count": null,
   "metadata": {},
   "outputs": [],
   "source": [
    "data3"
   ]
  },
  {
   "cell_type": "code",
   "execution_count": null,
   "metadata": {},
   "outputs": [],
   "source": [
    "data3.to_excel(\"concat socgen_new 44.xlsx\")\n"
   ]
  },
  {
   "cell_type": "code",
   "execution_count": null,
   "metadata": {},
   "outputs": [],
   "source": [
    "data3.columns"
   ]
  },
  {
   "cell_type": "code",
   "execution_count": null,
   "metadata": {},
   "outputs": [],
   "source": [
    "data3.shape"
   ]
  },
  {
   "cell_type": "markdown",
   "metadata": {},
   "source": [
    "# QA"
   ]
  },
  {
   "cell_type": "code",
   "execution_count": 28,
   "metadata": {},
   "outputs": [
    {
     "data": {
      "text/plain": [
       "40"
      ]
     },
     "execution_count": 28,
     "metadata": {},
     "output_type": "execute_result"
    }
   ],
   "source": [
    "len(data3[\"source_file\"].unique())"
   ]
  },
  {
   "cell_type": "code",
   "execution_count": 29,
   "metadata": {},
   "outputs": [
    {
     "data": {
      "text/plain": [
       "1230"
      ]
     },
     "execution_count": 29,
     "metadata": {},
     "output_type": "execute_result"
    }
   ],
   "source": [
    "data3.shape\n",
    "len(data3[data3[\"ACTION\"]==\"DELETE\"])+len(data3[data3[\"ACTION\"]=='DELETE (BDR already in DDIQ)'])+len(data3[data3[\"ACTION\"]=='DELETE (Duplicate Name - BDR added to another profile)'])"
   ]
  },
  {
   "cell_type": "code",
   "execution_count": 30,
   "metadata": {},
   "outputs": [
    {
     "data": {
      "text/plain": [
       "3"
      ]
     },
     "execution_count": 30,
     "metadata": {},
     "output_type": "execute_result"
    }
   ],
   "source": [
    "len(data3[data3['ACTION (10.30.17)']=='DELETE (BDR already in DDIQ)'])+len(data3[data3['ACTION (10.30.17)']=='DELETE (Duplicate Name - BDR added to another profile)'])"
   ]
  },
  {
   "cell_type": "code",
   "execution_count": 31,
   "metadata": {},
   "outputs": [
    {
     "data": {
      "text/plain": [
       "2"
      ]
     },
     "execution_count": 31,
     "metadata": {},
     "output_type": "execute_result"
    }
   ],
   "source": [
    "len(data3[data3[\"ACTION (11.1.17)\"]=='DELETE (Duplicate Name - BDR added to another profile)'])"
   ]
  },
  {
   "cell_type": "code",
   "execution_count": 32,
   "metadata": {},
   "outputs": [
    {
     "data": {
      "text/plain": [
       "1"
      ]
     },
     "execution_count": 32,
     "metadata": {},
     "output_type": "execute_result"
    }
   ],
   "source": [
    "len(data3[data3['ACTION (11.6.17)']=='Delete (Dummy Account)'])"
   ]
  },
  {
   "cell_type": "code",
   "execution_count": 33,
   "metadata": {},
   "outputs": [
    {
     "data": {
      "text/plain": [
       "646"
      ]
     },
     "execution_count": 33,
     "metadata": {},
     "output_type": "execute_result"
    }
   ],
   "source": [
    "len(data3[data3[\"Action\"]=='DELETE'])"
   ]
  },
  {
   "cell_type": "code",
   "execution_count": 34,
   "metadata": {},
   "outputs": [
    {
     "data": {
      "text/plain": [
       "42"
      ]
     },
     "execution_count": 34,
     "metadata": {},
     "output_type": "execute_result"
    }
   ],
   "source": [
    "len(data3[data3[\"Action2\"]=='DELETE'])"
   ]
  },
  {
   "cell_type": "code",
   "execution_count": 35,
   "metadata": {},
   "outputs": [
    {
     "data": {
      "text/plain": [
       "1924"
      ]
     },
     "execution_count": 35,
     "metadata": {},
     "output_type": "execute_result"
    }
   ],
   "source": [
    "1230+3+3+646+42"
   ]
  },
  {
   "cell_type": "code",
   "execution_count": 36,
   "metadata": {},
   "outputs": [
    {
     "data": {
      "text/plain": [
       "'/Users/ljiang/Desktop/Rest_of_Socgen'"
      ]
     },
     "execution_count": 36,
     "metadata": {},
     "output_type": "execute_result"
    }
   ],
   "source": [
    "path"
   ]
  },
  {
   "cell_type": "code",
   "execution_count": 37,
   "metadata": {},
   "outputs": [
    {
     "data": {
      "text/plain": [
       "array([nan, 'DELETE', 'Update BDR', 'AMEND NAME',\n",
       "       'Update BDR / Amend PEP-Status', 'Update PEP-Status',\n",
       "       'Name Re-Run', 'Name Re-Run / BDR Update', 'Re-Run Name',\n",
       "       'Update BDr', 'DELETE (BDR already in DDIQ)',\n",
       "       'DELETE (Duplicate Name - BDR added to another profile)',\n",
       "       'RE-RUN AS MULTINATIONAL (NEW BDR)', 'Updated BDR', 'NEW ENTITY',\n",
       "       'NAME UPDATE', 'Update DOB',\n",
       "       'ARCHIVE FEBRUARY PROFILE AND RE-RUN AS MULTINATIONAL',\n",
       "       'Update Name (Lookback Period from last refresh to present) - New name is in Column B',\n",
       "       'Update Name (New name is in Column B)', 'UPDATE BDR'],\n",
       "      dtype=object)"
      ]
     },
     "execution_count": 37,
     "metadata": {},
     "output_type": "execute_result"
    }
   ],
   "source": [
    "data3[\"ACTION\"].unique()"
   ]
  },
  {
   "cell_type": "code",
   "execution_count": 38,
   "metadata": {},
   "outputs": [
    {
     "data": {
      "text/plain": [
       "array([nan, 'RE-RUN AS MULTINATIONAL (NEW BDR)', 'Updated BDR',\n",
       "       'DELETE (BDR already in DDIQ)',\n",
       "       'DELETE (Duplicate Name - BDR added to another profile)'],\n",
       "      dtype=object)"
      ]
     },
     "execution_count": 38,
     "metadata": {},
     "output_type": "execute_result"
    }
   ],
   "source": [
    "data3['ACTION (10.30.17)'].unique()"
   ]
  },
  {
   "cell_type": "code",
   "execution_count": 39,
   "metadata": {},
   "outputs": [
    {
     "data": {
      "text/plain": [
       "array([nan, 'DELETE (Duplicate Name - BDR added to another profile)',\n",
       "       'RE-RUN AS MULTINATIONAL (NEW BDR)', 'Updated BDR'], dtype=object)"
      ]
     },
     "execution_count": 39,
     "metadata": {},
     "output_type": "execute_result"
    }
   ],
   "source": [
    "data3['ACTION (11.1.17)'].unique()"
   ]
  },
  {
   "cell_type": "code",
   "execution_count": 40,
   "metadata": {},
   "outputs": [
    {
     "data": {
      "text/plain": [
       "array([nan, 'Delete (Dummy Account)', 'Updated BDR'], dtype=object)"
      ]
     },
     "execution_count": 40,
     "metadata": {},
     "output_type": "execute_result"
    }
   ],
   "source": [
    "data3['ACTION (11.6.17)'].unique()"
   ]
  },
  {
   "cell_type": "code",
   "execution_count": 41,
   "metadata": {},
   "outputs": [
    {
     "data": {
      "text/plain": [
       "array([nan, 'Multinational Run', 'DELETE', 'Update BDR', 'March Onboard',\n",
       "       'March Review', 'Update Name', 'Update Name / Update BDR',\n",
       "       'Run as Multinational / BDR Update'], dtype=object)"
      ]
     },
     "execution_count": 41,
     "metadata": {},
     "output_type": "execute_result"
    }
   ],
   "source": [
    "data3[\"Action\"].unique()"
   ]
  },
  {
   "cell_type": "code",
   "execution_count": 42,
   "metadata": {},
   "outputs": [
    {
     "data": {
      "text/plain": [
       "array([nan, 'DELETE', 'Update BDR'], dtype=object)"
      ]
     },
     "execution_count": 42,
     "metadata": {},
     "output_type": "execute_result"
    }
   ],
   "source": [
    "data3[\"Action2\"].unique()"
   ]
  },
  {
   "cell_type": "code",
   "execution_count": 45,
   "metadata": {},
   "outputs": [],
   "source": [
    "# for i in range(len(data3)):\n",
    "#     if (data3['ACTION (10.30.17)'][i]=='DELETE (BDR already in DDIQ)' or 'DELETE (Duplicate Name - BDR added to another profile)'):\n",
    "#         data3[\"Action\"][i]=data3['ACTION (10.30.17)'][i]\n",
    "        "
   ]
  },
  {
   "cell_type": "code",
   "execution_count": null,
   "metadata": {},
   "outputs": [],
   "source": [
    "for i in range(len(data3)):\n",
    "    if (data3['ACTION (11.1.17)'][i]=='DELETE (Duplicate Name - BDR added to another profile)'):\n",
    "        data3[\"Action\"][i]=data3['ACTION (11.1.17)'][i]\n",
    "        "
   ]
  },
  {
   "cell_type": "code",
   "execution_count": null,
   "metadata": {},
   "outputs": [],
   "source": [
    "for i in range(len(data3)):\n",
    "    if (data3['ACTION (11.1.17)'][i]=='DELETE (Duplicate Name - BDR added to another profile)'):\n",
    "        data3[\"Action\"][i]=data3['ACTION (11.1.17)'][i]"
   ]
  },
  {
   "cell_type": "code",
   "execution_count": null,
   "metadata": {},
   "outputs": [],
   "source": [
    "data3[data3[\"Seed Data\"]==76802077237254]\n"
   ]
  },
  {
   "cell_type": "markdown",
   "metadata": {},
   "source": [
    "# Merge Original Columns If Needed"
   ]
  },
  {
   "cell_type": "code",
   "execution_count": null,
   "metadata": {},
   "outputs": [],
   "source": [
    "join1=pd.read_excel(\"join 1 .xlsx\")"
   ]
  },
  {
   "cell_type": "code",
   "execution_count": null,
   "metadata": {},
   "outputs": [],
   "source": [
    "join1"
   ]
  },
  {
   "cell_type": "code",
   "execution_count": null,
   "metadata": {
    "scrolled": true
   },
   "outputs": [],
   "source": [
    "kyc=data3[[\"KYC\"]]\n",
    "kyc"
   ]
  },
  {
   "cell_type": "code",
   "execution_count": null,
   "metadata": {},
   "outputs": [],
   "source": [
    "new_join=join1.merge(kyc, how='left', left_on=\"index\",right_index=True)"
   ]
  },
  {
   "cell_type": "code",
   "execution_count": null,
   "metadata": {},
   "outputs": [],
   "source": [
    "new_join"
   ]
  },
  {
   "cell_type": "code",
   "execution_count": null,
   "metadata": {},
   "outputs": [],
   "source": [
    "new_join.to_excel(\"concat_joined_kyc.xlsx\")"
   ]
  },
  {
   "cell_type": "code",
   "execution_count": null,
   "metadata": {},
   "outputs": [],
   "source": [
    "name_merge=pd.read_excel(\"name merge.xlsx\")"
   ]
  },
  {
   "cell_type": "code",
   "execution_count": null,
   "metadata": {},
   "outputs": [],
   "source": [
    "new_join=join1.merge(name_merge, how='left', left_on=\"index\",right_on=\"index\")"
   ]
  },
  {
   "cell_type": "code",
   "execution_count": null,
   "metadata": {},
   "outputs": [],
   "source": [
    "new_join"
   ]
  },
  {
   "cell_type": "code",
   "execution_count": null,
   "metadata": {},
   "outputs": [],
   "source": [
    "new_join.to_excel(\"name_joined_v2.xlsx\")"
   ]
  },
  {
   "cell_type": "code",
   "execution_count": null,
   "metadata": {},
   "outputs": [],
   "source": []
  },
  {
   "cell_type": "code",
   "execution_count": null,
   "metadata": {},
   "outputs": [],
   "source": []
  },
  {
   "cell_type": "code",
   "execution_count": null,
   "metadata": {},
   "outputs": [],
   "source": []
  }
 ],
 "metadata": {
  "kernelspec": {
   "display_name": "Python 3",
   "language": "python",
   "name": "python3"
  },
  "language_info": {
   "codemirror_mode": {
    "name": "ipython",
    "version": 3
   },
   "file_extension": ".py",
   "mimetype": "text/x-python",
   "name": "python",
   "nbconvert_exporter": "python",
   "pygments_lexer": "ipython3",
   "version": "3.7.3"
  }
 },
 "nbformat": 4,
 "nbformat_minor": 2
}
