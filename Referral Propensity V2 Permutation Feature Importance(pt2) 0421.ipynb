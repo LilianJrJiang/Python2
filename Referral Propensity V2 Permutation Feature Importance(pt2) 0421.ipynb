{
 "cells": [
  {
   "cell_type": "code",
   "execution_count": 1,
   "metadata": {},
   "outputs": [],
   "source": [
    "import matplotlib.pyplot as plt\n",
    "import numpy as np\n",
    "import pandas as pd\n",
    "from sklearn.datasets import fetch_openml\n",
    "from sklearn.ensemble import RandomForestClassifier\n",
    "from sklearn.impute import SimpleImputer\n",
    "from sklearn.inspection import permutation_importance\n",
    "from sklearn.compose import ColumnTransformer\n",
    "from sklearn.model_selection import train_test_split\n",
    "from sklearn.pipeline import Pipeline\n",
    "from sklearn.preprocessing import OneHotEncoder"
   ]
  },
  {
   "cell_type": "markdown",
   "metadata": {},
   "source": [
    "# Start - Load Data from Part 1"
   ]
  },
  {
   "cell_type": "code",
   "execution_count": 2,
   "metadata": {
    "scrolled": true
   },
   "outputs": [
    {
     "data": {
      "text/html": [
       "<div>\n",
       "<style scoped>\n",
       "    .dataframe tbody tr th:only-of-type {\n",
       "        vertical-align: middle;\n",
       "    }\n",
       "\n",
       "    .dataframe tbody tr th {\n",
       "        vertical-align: top;\n",
       "    }\n",
       "\n",
       "    .dataframe thead th {\n",
       "        text-align: right;\n",
       "    }\n",
       "</style>\n",
       "<table border=\"1\" class=\"dataframe\">\n",
       "  <thead>\n",
       "    <tr style=\"text-align: right;\">\n",
       "      <th></th>\n",
       "      <th>Unnamed: 0</th>\n",
       "      <th>user_reference</th>\n",
       "      <th>age</th>\n",
       "      <th>city</th>\n",
       "      <th>province</th>\n",
       "      <th>occupation</th>\n",
       "      <th>skill_level_clean</th>\n",
       "      <th>num_viewed</th>\n",
       "      <th>num_clicked</th>\n",
       "      <th>ref_page_view_click</th>\n",
       "      <th>...</th>\n",
       "      <th>reg_lag</th>\n",
       "      <th>kyc_lag</th>\n",
       "      <th>afa_lag</th>\n",
       "      <th>if_afa</th>\n",
       "      <th>outbound_etransfer_counts</th>\n",
       "      <th>cashback_total_amt</th>\n",
       "      <th>spend</th>\n",
       "      <th>load</th>\n",
       "      <th>referred_counts</th>\n",
       "      <th>if_referred_180</th>\n",
       "    </tr>\n",
       "  </thead>\n",
       "  <tbody>\n",
       "    <tr>\n",
       "      <th>0</th>\n",
       "      <td>0</td>\n",
       "      <td>_k0NAGFv</td>\n",
       "      <td>57.0</td>\n",
       "      <td>Grande Prairie</td>\n",
       "      <td>Alberta</td>\n",
       "      <td>Elementary And Secondary School Teacher Assist...</td>\n",
       "      <td>C</td>\n",
       "      <td>90.0</td>\n",
       "      <td>114.0</td>\n",
       "      <td>0.0</td>\n",
       "      <td>...</td>\n",
       "      <td>291</td>\n",
       "      <td>291</td>\n",
       "      <td>281</td>\n",
       "      <td>1</td>\n",
       "      <td>NaN</td>\n",
       "      <td>2.26</td>\n",
       "      <td>449.44</td>\n",
       "      <td>1650.00</td>\n",
       "      <td>NaN</td>\n",
       "      <td>0</td>\n",
       "    </tr>\n",
       "    <tr>\n",
       "      <th>1</th>\n",
       "      <td>1</td>\n",
       "      <td>BhNJhXDy</td>\n",
       "      <td>45.0</td>\n",
       "      <td>Peterview</td>\n",
       "      <td>Newfoundland and Labrador</td>\n",
       "      <td>Labourer in Manufacturing Other</td>\n",
       "      <td>D</td>\n",
       "      <td>57.0</td>\n",
       "      <td>43.0</td>\n",
       "      <td>0.0</td>\n",
       "      <td>...</td>\n",
       "      <td>278</td>\n",
       "      <td>278</td>\n",
       "      <td>260</td>\n",
       "      <td>1</td>\n",
       "      <td>NaN</td>\n",
       "      <td>1.54</td>\n",
       "      <td>309.20</td>\n",
       "      <td>350.00</td>\n",
       "      <td>NaN</td>\n",
       "      <td>0</td>\n",
       "    </tr>\n",
       "    <tr>\n",
       "      <th>2</th>\n",
       "      <td>2</td>\n",
       "      <td>auryKkFv</td>\n",
       "      <td>51.0</td>\n",
       "      <td>upper port la tour</td>\n",
       "      <td>Nova Scotia</td>\n",
       "      <td>Advertising Manager</td>\n",
       "      <td>O</td>\n",
       "      <td>305.0</td>\n",
       "      <td>201.0</td>\n",
       "      <td>1.0</td>\n",
       "      <td>...</td>\n",
       "      <td>289</td>\n",
       "      <td>289</td>\n",
       "      <td>269</td>\n",
       "      <td>1</td>\n",
       "      <td>3.0</td>\n",
       "      <td>5.43</td>\n",
       "      <td>248.67</td>\n",
       "      <td>682.57</td>\n",
       "      <td>NaN</td>\n",
       "      <td>0</td>\n",
       "    </tr>\n",
       "    <tr>\n",
       "      <th>3</th>\n",
       "      <td>3</td>\n",
       "      <td>Se.4dcyR</td>\n",
       "      <td>29.0</td>\n",
       "      <td>Barrie</td>\n",
       "      <td>Ontario</td>\n",
       "      <td>Early Childhood Educator Or Assistant</td>\n",
       "      <td>B</td>\n",
       "      <td>338.0</td>\n",
       "      <td>476.0</td>\n",
       "      <td>1.0</td>\n",
       "      <td>...</td>\n",
       "      <td>288</td>\n",
       "      <td>288</td>\n",
       "      <td>288</td>\n",
       "      <td>1</td>\n",
       "      <td>NaN</td>\n",
       "      <td>9.20</td>\n",
       "      <td>1780.10</td>\n",
       "      <td>2064.29</td>\n",
       "      <td>NaN</td>\n",
       "      <td>0</td>\n",
       "    </tr>\n",
       "    <tr>\n",
       "      <th>4</th>\n",
       "      <td>4</td>\n",
       "      <td>SaBVGXck</td>\n",
       "      <td>20.0</td>\n",
       "      <td>Verdun</td>\n",
       "      <td>Quebec</td>\n",
       "      <td>Student</td>\n",
       "      <td>Student</td>\n",
       "      <td>86.0</td>\n",
       "      <td>74.0</td>\n",
       "      <td>0.0</td>\n",
       "      <td>...</td>\n",
       "      <td>280</td>\n",
       "      <td>280</td>\n",
       "      <td>260</td>\n",
       "      <td>1</td>\n",
       "      <td>NaN</td>\n",
       "      <td>5.18</td>\n",
       "      <td>1046.48</td>\n",
       "      <td>1090.00</td>\n",
       "      <td>NaN</td>\n",
       "      <td>0</td>\n",
       "    </tr>\n",
       "    <tr>\n",
       "      <th>5</th>\n",
       "      <td>5</td>\n",
       "      <td>cuVnwde2</td>\n",
       "      <td>19.0</td>\n",
       "      <td>St-Zotique</td>\n",
       "      <td>Quebec</td>\n",
       "      <td>Student</td>\n",
       "      <td>Student</td>\n",
       "      <td>91.0</td>\n",
       "      <td>206.0</td>\n",
       "      <td>1.0</td>\n",
       "      <td>...</td>\n",
       "      <td>276</td>\n",
       "      <td>276</td>\n",
       "      <td>276</td>\n",
       "      <td>1</td>\n",
       "      <td>NaN</td>\n",
       "      <td>14.05</td>\n",
       "      <td>990.21</td>\n",
       "      <td>1600.00</td>\n",
       "      <td>NaN</td>\n",
       "      <td>0</td>\n",
       "    </tr>\n",
       "    <tr>\n",
       "      <th>6</th>\n",
       "      <td>6</td>\n",
       "      <td>0Oog6kaV</td>\n",
       "      <td>40.0</td>\n",
       "      <td>Montreal</td>\n",
       "      <td>Quebec</td>\n",
       "      <td>Mathematician</td>\n",
       "      <td>A</td>\n",
       "      <td>140.0</td>\n",
       "      <td>120.0</td>\n",
       "      <td>0.0</td>\n",
       "      <td>...</td>\n",
       "      <td>282</td>\n",
       "      <td>282</td>\n",
       "      <td>281</td>\n",
       "      <td>1</td>\n",
       "      <td>NaN</td>\n",
       "      <td>9.73</td>\n",
       "      <td>1786.54</td>\n",
       "      <td>2086.30</td>\n",
       "      <td>NaN</td>\n",
       "      <td>0</td>\n",
       "    </tr>\n",
       "    <tr>\n",
       "      <th>7</th>\n",
       "      <td>7</td>\n",
       "      <td>lgHrQfdf</td>\n",
       "      <td>41.0</td>\n",
       "      <td>Longueuil</td>\n",
       "      <td>Quebec</td>\n",
       "      <td>Software Engineer</td>\n",
       "      <td>A</td>\n",
       "      <td>87.0</td>\n",
       "      <td>241.0</td>\n",
       "      <td>1.0</td>\n",
       "      <td>...</td>\n",
       "      <td>286</td>\n",
       "      <td>286</td>\n",
       "      <td>286</td>\n",
       "      <td>1</td>\n",
       "      <td>NaN</td>\n",
       "      <td>57.00</td>\n",
       "      <td>10839.73</td>\n",
       "      <td>11076.25</td>\n",
       "      <td>NaN</td>\n",
       "      <td>0</td>\n",
       "    </tr>\n",
       "    <tr>\n",
       "      <th>8</th>\n",
       "      <td>8</td>\n",
       "      <td>tH0dsfnv</td>\n",
       "      <td>27.0</td>\n",
       "      <td>Montreal</td>\n",
       "      <td>Quebec</td>\n",
       "      <td>Executive Assistant</td>\n",
       "      <td>B</td>\n",
       "      <td>239.0</td>\n",
       "      <td>263.0</td>\n",
       "      <td>0.0</td>\n",
       "      <td>...</td>\n",
       "      <td>289</td>\n",
       "      <td>289</td>\n",
       "      <td>280</td>\n",
       "      <td>1</td>\n",
       "      <td>18.0</td>\n",
       "      <td>13.16</td>\n",
       "      <td>2633.32</td>\n",
       "      <td>3745.00</td>\n",
       "      <td>NaN</td>\n",
       "      <td>0</td>\n",
       "    </tr>\n",
       "    <tr>\n",
       "      <th>9</th>\n",
       "      <td>9</td>\n",
       "      <td>NqPAkZm7</td>\n",
       "      <td>36.0</td>\n",
       "      <td>Truax</td>\n",
       "      <td>Saskatchewan</td>\n",
       "      <td>Cashier</td>\n",
       "      <td>D</td>\n",
       "      <td>28.0</td>\n",
       "      <td>40.0</td>\n",
       "      <td>1.0</td>\n",
       "      <td>...</td>\n",
       "      <td>272</td>\n",
       "      <td>272</td>\n",
       "      <td>272</td>\n",
       "      <td>1</td>\n",
       "      <td>NaN</td>\n",
       "      <td>1.16</td>\n",
       "      <td>231.00</td>\n",
       "      <td>457.00</td>\n",
       "      <td>NaN</td>\n",
       "      <td>0</td>\n",
       "    </tr>\n",
       "  </tbody>\n",
       "</table>\n",
       "<p>10 rows × 28 columns</p>\n",
       "</div>"
      ],
      "text/plain": [
       "   Unnamed: 0 user_reference   age                city  \\\n",
       "0           0       _k0NAGFv  57.0      Grande Prairie   \n",
       "1           1       BhNJhXDy  45.0           Peterview   \n",
       "2           2       auryKkFv  51.0  upper port la tour   \n",
       "3           3       Se.4dcyR  29.0              Barrie   \n",
       "4           4       SaBVGXck  20.0              Verdun   \n",
       "5           5       cuVnwde2  19.0          St-Zotique   \n",
       "6           6       0Oog6kaV  40.0            Montreal   \n",
       "7           7       lgHrQfdf  41.0           Longueuil   \n",
       "8           8       tH0dsfnv  27.0            Montreal   \n",
       "9           9       NqPAkZm7  36.0               Truax   \n",
       "\n",
       "                    province  \\\n",
       "0                    Alberta   \n",
       "1  Newfoundland and Labrador   \n",
       "2                Nova Scotia   \n",
       "3                    Ontario   \n",
       "4                     Quebec   \n",
       "5                     Quebec   \n",
       "6                     Quebec   \n",
       "7                     Quebec   \n",
       "8                     Quebec   \n",
       "9               Saskatchewan   \n",
       "\n",
       "                                          occupation skill_level_clean  \\\n",
       "0  Elementary And Secondary School Teacher Assist...                 C   \n",
       "1                    Labourer in Manufacturing Other                 D   \n",
       "2                                Advertising Manager                 O   \n",
       "3              Early Childhood Educator Or Assistant                 B   \n",
       "4                                            Student           Student   \n",
       "5                                            Student           Student   \n",
       "6                                      Mathematician                 A   \n",
       "7                                  Software Engineer                 A   \n",
       "8                                Executive Assistant                 B   \n",
       "9                                            Cashier                 D   \n",
       "\n",
       "   num_viewed  num_clicked  ref_page_view_click  ...  reg_lag  kyc_lag  \\\n",
       "0        90.0        114.0                  0.0  ...      291      291   \n",
       "1        57.0         43.0                  0.0  ...      278      278   \n",
       "2       305.0        201.0                  1.0  ...      289      289   \n",
       "3       338.0        476.0                  1.0  ...      288      288   \n",
       "4        86.0         74.0                  0.0  ...      280      280   \n",
       "5        91.0        206.0                  1.0  ...      276      276   \n",
       "6       140.0        120.0                  0.0  ...      282      282   \n",
       "7        87.0        241.0                  1.0  ...      286      286   \n",
       "8       239.0        263.0                  0.0  ...      289      289   \n",
       "9        28.0         40.0                  1.0  ...      272      272   \n",
       "\n",
       "   afa_lag  if_afa  outbound_etransfer_counts cashback_total_amt     spend  \\\n",
       "0      281       1                        NaN               2.26    449.44   \n",
       "1      260       1                        NaN               1.54    309.20   \n",
       "2      269       1                        3.0               5.43    248.67   \n",
       "3      288       1                        NaN               9.20   1780.10   \n",
       "4      260       1                        NaN               5.18   1046.48   \n",
       "5      276       1                        NaN              14.05    990.21   \n",
       "6      281       1                        NaN               9.73   1786.54   \n",
       "7      286       1                        NaN              57.00  10839.73   \n",
       "8      280       1                       18.0              13.16   2633.32   \n",
       "9      272       1                        NaN               1.16    231.00   \n",
       "\n",
       "       load  referred_counts  if_referred_180  \n",
       "0   1650.00              NaN                0  \n",
       "1    350.00              NaN                0  \n",
       "2    682.57              NaN                0  \n",
       "3   2064.29              NaN                0  \n",
       "4   1090.00              NaN                0  \n",
       "5   1600.00              NaN                0  \n",
       "6   2086.30              NaN                0  \n",
       "7  11076.25              NaN                0  \n",
       "8   3745.00              NaN                0  \n",
       "9    457.00              NaN                0  \n",
       "\n",
       "[10 rows x 28 columns]"
      ]
     },
     "execution_count": 2,
     "metadata": {},
     "output_type": "execute_result"
    }
   ],
   "source": [
    "data=pd.read_csv('referral_propensity_full_set.csv')\n",
    "data.head(10)"
   ]
  },
  {
   "cell_type": "code",
   "execution_count": 3,
   "metadata": {},
   "outputs": [
    {
     "data": {
      "text/plain": [
       "259730"
      ]
     },
     "execution_count": 3,
     "metadata": {},
     "output_type": "execute_result"
    }
   ],
   "source": [
    "len(data)"
   ]
  },
  {
   "cell_type": "code",
   "execution_count": 4,
   "metadata": {},
   "outputs": [
    {
     "data": {
      "text/plain": [
       "Index(['Unnamed: 0', 'user_reference', 'age', 'city', 'province', 'occupation',\n",
       "       'skill_level_clean', 'num_viewed', 'num_clicked', 'ref_page_view_click',\n",
       "       'referral_code_copied', 'link_shared_completed', 'sms_referral_shared',\n",
       "       'total_shares', 'get_20_page_view_counts', 'media_category', 'device',\n",
       "       'install_lag', 'reg_lag', 'kyc_lag', 'afa_lag', 'if_afa',\n",
       "       'outbound_etransfer_counts', 'cashback_total_amt', 'spend', 'load',\n",
       "       'referred_counts', 'if_referred_180'],\n",
       "      dtype='object')"
      ]
     },
     "execution_count": 4,
     "metadata": {},
     "output_type": "execute_result"
    }
   ],
   "source": [
    "data.columns"
   ]
  },
  {
   "cell_type": "markdown",
   "metadata": {},
   "source": [
    "# Label"
   ]
  },
  {
   "cell_type": "code",
   "execution_count": 5,
   "metadata": {},
   "outputs": [],
   "source": [
    "y=data[['if_referred_180']]"
   ]
  },
  {
   "cell_type": "markdown",
   "metadata": {},
   "source": [
    "# Geo Cleaning (Geo data - Not a good feature after testing)"
   ]
  },
  {
   "cell_type": "code",
   "execution_count": 6,
   "metadata": {},
   "outputs": [],
   "source": [
    "# def Geo_Region(data):\n",
    "    \n",
    "#     data[\"geo_region\"]=\"\"\n",
    "#     for i in range(len(data)):\n",
    "#         if data[\"province\"][i] in ('Ontario','Quebec','Nova Scotia','New Brunswick','Newfoundland and Labrador','Prince Edward Island'):\n",
    "#             data[\"geo_region\"][i]=\"Eastern Canada\"\n",
    "#         if data[\"province\"][i] in ('Saskatchewan','Alberta',\"Manitoba\",'British Columbia'):\n",
    "#             data[\"geo_region\"][i]=\"Western Provinces\"\n",
    "#         if data[\"province\"][i] in ('Northwest Territories', 'Yukon','Nunavut'):\n",
    "#             data[\"geo_region\"][i]=\"North Canada\"\n",
    "            \n",
    "            \n",
    "#     return data\n",
    "\n",
    "\n",
    "# data=Geo_Region(data)\n",
    "# data.head(10)"
   ]
  },
  {
   "cell_type": "code",
   "execution_count": 7,
   "metadata": {},
   "outputs": [],
   "source": [
    "X=data\n"
   ]
  },
  {
   "cell_type": "code",
   "execution_count": 8,
   "metadata": {},
   "outputs": [
    {
     "data": {
      "text/plain": [
       "Index(['Unnamed: 0', 'user_reference', 'age', 'city', 'province', 'occupation',\n",
       "       'skill_level_clean', 'num_viewed', 'num_clicked', 'ref_page_view_click',\n",
       "       'referral_code_copied', 'link_shared_completed', 'sms_referral_shared',\n",
       "       'total_shares', 'get_20_page_view_counts', 'media_category', 'device',\n",
       "       'install_lag', 'reg_lag', 'kyc_lag', 'afa_lag', 'if_afa',\n",
       "       'outbound_etransfer_counts', 'cashback_total_amt', 'spend', 'load',\n",
       "       'referred_counts', 'if_referred_180'],\n",
       "      dtype='object')"
      ]
     },
     "execution_count": 8,
     "metadata": {},
     "output_type": "execute_result"
    }
   ],
   "source": [
    "X.columns"
   ]
  },
  {
   "cell_type": "code",
   "execution_count": 9,
   "metadata": {},
   "outputs": [],
   "source": [
    "categorical_columns = [\n",
    "\n",
    "    'skill_level_clean', 'media_category',\n",
    "       'device']\n",
    "\n",
    "numerical_columns = [\n",
    "    'age', \n",
    "    \n",
    "    'install_lag', 'reg_lag', 'kyc_lag', 'afa_lag', 'if_afa',\n",
    "\n",
    "    'num_viewed', 'num_clicked',\n",
    "    \n",
    "    'ref_page_view_click', \n",
    "    \n",
    "    'referral_code_copied','sms_referral_shared', 'link_shared_completed', 'total_shares',\n",
    "    \n",
    "     'outbound_etransfer_counts', 'cashback_total_amt', 'spend', 'load',\n",
    "\n",
    "       'get_20_page_view_counts'\n",
    "\n",
    "]"
   ]
  },
  {
   "cell_type": "code",
   "execution_count": 10,
   "metadata": {},
   "outputs": [],
   "source": [
    "X = X[categorical_columns + numerical_columns]\n",
    "\n",
    "X_train, X_test, y_train, y_test = train_test_split(X, y, stratify=y, random_state=42)\n",
    "\n",
    "categorical_encoder = OneHotEncoder(handle_unknown=\"ignore\")\n",
    "numerical_pipe = Pipeline([(\"imputer\", SimpleImputer(strategy=\"mean\"))])"
   ]
  },
  {
   "cell_type": "code",
   "execution_count": 11,
   "metadata": {},
   "outputs": [
    {
     "name": "stdout",
     "output_type": "stream",
     "text": [
      "<class 'pandas.core.frame.DataFrame'>\n",
      "RangeIndex: 259730 entries, 0 to 259729\n",
      "Data columns (total 21 columns):\n",
      " #   Column                     Non-Null Count   Dtype  \n",
      "---  ------                     --------------   -----  \n",
      " 0   skill_level_clean          259730 non-null  object \n",
      " 1   media_category             259730 non-null  object \n",
      " 2   device                     259730 non-null  object \n",
      " 3   age                        259730 non-null  float64\n",
      " 4   install_lag                259730 non-null  int64  \n",
      " 5   reg_lag                    259730 non-null  int64  \n",
      " 6   kyc_lag                    259730 non-null  int64  \n",
      " 7   afa_lag                    259730 non-null  int64  \n",
      " 8   if_afa                     259730 non-null  int64  \n",
      " 9   num_viewed                 259730 non-null  float64\n",
      " 10  num_clicked                259730 non-null  float64\n",
      " 11  ref_page_view_click        259730 non-null  float64\n",
      " 12  referral_code_copied       259730 non-null  float64\n",
      " 13  sms_referral_shared        259730 non-null  float64\n",
      " 14  link_shared_completed      259730 non-null  float64\n",
      " 15  total_shares               259730 non-null  float64\n",
      " 16  outbound_etransfer_counts  259730 non-null  float64\n",
      " 17  cashback_total_amt         259730 non-null  float64\n",
      " 18  spend                      259730 non-null  float64\n",
      " 19  load                       259730 non-null  float64\n",
      " 20  get_20_page_view_counts    259730 non-null  float64\n",
      "dtypes: float64(13), int64(5), object(3)\n",
      "memory usage: 41.6+ MB\n"
     ]
    }
   ],
   "source": [
    "X=X.fillna(0)\n",
    "X.info()"
   ]
  },
  {
   "cell_type": "markdown",
   "metadata": {},
   "source": [
    "# Feature Selection (Random Forest Classification and Permutation Importance)"
   ]
  },
  {
   "cell_type": "code",
   "execution_count": 12,
   "metadata": {},
   "outputs": [
    {
     "name": "stderr",
     "output_type": "stream",
     "text": [
      "/Users/lilian/opt/anaconda3/lib/python3.8/site-packages/sklearn/pipeline.py:394: DataConversionWarning: A column-vector y was passed when a 1d array was expected. Please change the shape of y to (n_samples,), for example using ravel().\n",
      "  self._final_estimator.fit(Xt, y, **fit_params_last_step)\n"
     ]
    },
    {
     "data": {
      "text/plain": [
       "Pipeline(steps=[('preprocess',\n",
       "                 ColumnTransformer(transformers=[('cat',\n",
       "                                                  OneHotEncoder(handle_unknown='ignore'),\n",
       "                                                  ['skill_level_clean',\n",
       "                                                   'media_category',\n",
       "                                                   'device']),\n",
       "                                                 ('num',\n",
       "                                                  Pipeline(steps=[('imputer',\n",
       "                                                                   SimpleImputer())]),\n",
       "                                                  ['age', 'install_lag',\n",
       "                                                   'reg_lag', 'kyc_lag',\n",
       "                                                   'afa_lag', 'if_afa',\n",
       "                                                   'num_viewed', 'num_clicked',\n",
       "                                                   'ref_page_view_click',\n",
       "                                                   'referral_code_copied',\n",
       "                                                   'sms_referral_shared',\n",
       "                                                   'link_shared_completed',\n",
       "                                                   'total_shares',\n",
       "                                                   'outbound_etransfer_counts',\n",
       "                                                   'cashback_total_amt',\n",
       "                                                   'spend', 'load',\n",
       "                                                   'get_20_page_view_counts'])])),\n",
       "                ('classifier', RandomForestClassifier(random_state=42))])"
      ]
     },
     "execution_count": 12,
     "metadata": {},
     "output_type": "execute_result"
    }
   ],
   "source": [
    "preprocessing = ColumnTransformer(\n",
    "    [\n",
    "        (\"cat\", categorical_encoder, categorical_columns),\n",
    "        (\"num\", numerical_pipe, numerical_columns),\n",
    "    ]\n",
    ")\n",
    "\n",
    "rf = Pipeline(\n",
    "    [\n",
    "        (\"preprocess\", preprocessing),\n",
    "        (\"classifier\", RandomForestClassifier(random_state=42)),\n",
    "    ]\n",
    ")\n",
    "\n",
    "\n",
    "rf.fit(X_train, y_train)"
   ]
  },
  {
   "cell_type": "code",
   "execution_count": 13,
   "metadata": {},
   "outputs": [
    {
     "name": "stdout",
     "output_type": "stream",
     "text": [
      "RF train accuracy: 1.000\n",
      "RF test accuracy: 0.951\n"
     ]
    }
   ],
   "source": [
    "# rf\n",
    "\n",
    "# preprocessing\n",
    "\n",
    "print(\"RF train accuracy: %0.3f\" % rf.score(X_train, y_train))\n",
    "print(\"RF test accuracy: %0.3f\" % rf.score(X_test, y_test))"
   ]
  },
  {
   "cell_type": "code",
   "execution_count": 14,
   "metadata": {},
   "outputs": [
    {
     "data": {
      "image/png": "[encoded data removed]",
      "text/plain": [
       "<Figure size 1440x1440 with 1 Axes>"
      ]
     },
     "metadata": {
      "needs_background": "light"
     },
     "output_type": "display_data"
    }
   ],
   "source": [
    "ohe = rf.named_steps[\"preprocess\"].named_transformers_[\"cat\"]\n",
    "feature_names = ohe.get_feature_names_out(categorical_columns)\n",
    "feature_names = np.r_[feature_names, numerical_columns]\n",
    "\n",
    "tree_feature_importances = rf.named_steps[\"classifier\"].feature_importances_\n",
    "sorted_idx = tree_feature_importances.argsort()\n",
    "\n",
    "y_ticks = np.arange(0, len(feature_names))\n",
    "fig, ax = plt.subplots()\n",
    "ax.barh(y_ticks, tree_feature_importances[sorted_idx])\n",
    "ax.set_yticks(y_ticks)\n",
    "ax.set_yticklabels(feature_names[sorted_idx])\n",
    "ax.set_title(\"Random Forest Feature Importances (MDI)\")\n",
    "fig.tight_layout()\n",
    "\n",
    "\n",
    "fig.set_figheight(20)\n",
    "fig.set_figwidth(20)\n",
    "\n",
    "\n",
    "plt.show()\n"
   ]
  },
  {
   "cell_type": "code",
   "execution_count": 15,
   "metadata": {},
   "outputs": [
    {
     "data": {
      "image/png": "[encoded data removed]",
      "text/plain": [
       "<Figure size 864x720 with 1 Axes>"
      ]
     },
     "metadata": {
      "needs_background": "light"
     },
     "output_type": "display_data"
    }
   ],
   "source": [
    "result = permutation_importance(\n",
    "    rf, X_test, y_test, n_repeats=10, random_state=42, n_jobs=2\n",
    ")\n",
    "sorted_idx = result.importances_mean.argsort()\n",
    "\n",
    "fig, ax = plt.subplots()\n",
    "ax.boxplot(\n",
    "    result.importances[sorted_idx].T, vert=False, labels=X_test.columns[sorted_idx]\n",
    ")\n",
    "ax.set_title(\"Permutation Importances (test set)\")\n",
    "fig.tight_layout()\n",
    "\n",
    "fig.set_figheight(10)\n",
    "fig.set_figwidth(12)\n",
    "\n",
    "plt.show()"
   ]
  },
  {
   "cell_type": "code",
   "execution_count": null,
   "metadata": {},
   "outputs": [],
   "source": []
  },
  {
   "cell_type": "code",
   "execution_count": null,
   "metadata": {},
   "outputs": [],
   "source": []
  },
  {
   "cell_type": "code",
   "execution_count": null,
   "metadata": {},
   "outputs": [],
   "source": []
  }
 ],
 "metadata": {
  "kernelspec": {
   "display_name": "Python 3",
   "language": "python",
   "name": "python3"
  },
  "language_info": {
   "codemirror_mode": {
    "name": "ipython",
    "version": 3
   },
   "file_extension": ".py",
   "mimetype": "text/x-python",
   "name": "python",
   "nbconvert_exporter": "python",
   "pygments_lexer": "ipython3",
   "version": "3.8.5"
  }
 },
 "nbformat": 4,
 "nbformat_minor": 4
}
