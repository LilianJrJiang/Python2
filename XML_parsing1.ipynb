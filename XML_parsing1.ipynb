{
 "cells": [
  {
   "cell_type": "code",
   "execution_count": 1,
   "metadata": {},
   "outputs": [],
   "source": [
    "import pandas as pd\n",
    "import xml.etree.ElementTree as ET\n",
    "import os\n",
    "import pprint as pp\n",
    "from zipfile import ZipFile\n",
    "#from tqdm import tqdm\n",
    "from tqdm import tqdm_notebook as tqdm\n",
    "import csv\n",
    "import ast\n",
    "import json\n",
    "import flatten_json\n",
    "from flatten_json import flatten\n",
    "from pandas.io.json import json_normalize\n",
    "import xmltodict\n",
    "import os\n",
    "import numpy as np"
   ]
  },
  {
   "cell_type": "markdown",
   "metadata": {},
   "source": [
    "pip install flatten_json"
   ]
  },
  {
   "cell_type": "markdown",
   "metadata": {},
   "source": [
    "pip install xmltodict"
   ]
  },
  {
   "cell_type": "code",
   "execution_count": 2,
   "metadata": {},
   "outputs": [],
   "source": [
    "def listfiles(rootdir):\n",
    "    f = []\n",
    "    for subdir, dirs, files in os.walk(rootdir):\n",
    "        for file in files:\n",
    "            path = os.path.join(subdir, file)\n",
    "            f.append(path)\n",
    "    return f"
   ]
  },
  {
   "cell_type": "code",
   "execution_count": 3,
   "metadata": {},
   "outputs": [
    {
     "name": "stdout",
     "output_type": "stream",
     "text": [
      "0\n"
     ]
    }
   ],
   "source": [
    "#rootdir = '/Users/tnagireddy/Documents/Tasks/XML_toDF_BAT/Files'\n",
    "rootdir = 'E:/tnagireddy/Files 7 - 8'\n",
    "\n",
    "\n",
    "f = listfiles(rootdir)\n",
    "print(len(f))"
   ]
  },
  {
   "cell_type": "code",
   "execution_count": 4,
   "metadata": {},
   "outputs": [],
   "source": [
    "def ques(root):\n",
    "    questions_q = pd.DataFrame()\n",
    "    for q in range(len(root[8])):\n",
    "        tags, attributes, values = [], [], []\n",
    "        question_id = root[8][q].attrib\n",
    "        question_id = question_id[\"QuestionID\"]\n",
    "        question_id = question_id.replace(\"ID\",'')\n",
    "\n",
    "        for child in root[8][q]:\n",
    "            tags.append(child.tag)\n",
    "            attributes.append(question_id)\n",
    "            values.append(child.text)\n",
    "\n",
    "            if len(child) > 0:\n",
    "                for c in child:\n",
    "                    tags.append(c.tag)\n",
    "                    attributes.append(c.attrib)\n",
    "                    if len(c) > 0:\n",
    "                        for i in c:\n",
    "                            values.append(i.text)\n",
    "                    else:\n",
    "                        values.append(c.text)\n",
    "\n",
    "            question = pd.DataFrame({\n",
    "                'tags':tags,\n",
    "                'attributes':attributes,\n",
    "                'values':values\n",
    "            })\n",
    "\n",
    "        questions_q = questions_q.append(question)\n",
    "        \n",
    "    return questions_q"
   ]
  },
  {
   "cell_type": "code",
   "execution_count": 5,
   "metadata": {},
   "outputs": [],
   "source": [
    "def resp(root):\n",
    "    tags, values = [], []\n",
    "\n",
    "    for child in root[0]:\n",
    "        tags.append(child.tag)\n",
    "        values.append(child.text)\n",
    "\n",
    "    responses = pd.DataFrame({\n",
    "        'tags':tags,\n",
    "        'values':values\n",
    "    })\n",
    "    \n",
    "    return responses"
   ]
  },
  {
   "cell_type": "code",
   "execution_count": 6,
   "metadata": {},
   "outputs": [
    {
     "name": "stdout",
     "output_type": "stream",
     "text": [
      "[]\n",
      "0\n"
     ]
    }
   ],
   "source": [
    "total_files = []\n",
    "for file in f:\n",
    "    zip_file = ZipFile(file, 'r')\n",
    "    zip_file_contents = zip_file.infolist() # storing folders for specific zip\n",
    "    total_files.append(len(zip_file_contents))\n",
    "print(total_files)\n",
    "print(sum(total_files))"
   ]
  },
  {
   "cell_type": "code",
   "execution_count": 53,
   "metadata": {},
   "outputs": [
    {
     "data": {
      "text/plain": [
       "<ZipInfo filename='BAT_Questionnaires_20191023/145739/844f62cf-eaac-4156-a90c-a42960168a5f.xml' compress_type=deflate external_attr=0x20 file_size=1296372 compress_size=120011>"
      ]
     },
     "execution_count": 53,
     "metadata": {},
     "output_type": "execute_result"
    }
   ],
   "source": [
    "f[0]\n",
    "zip_file = ZipFile(f[0], 'r')\n",
    "zip_file_contents = zip_file.infolist()\n",
    "zip_file_contents[16]"
   ]
  },
  {
   "cell_type": "code",
   "execution_count": 54,
   "metadata": {},
   "outputs": [],
   "source": [
    "zip_file = ZipFile(f[0], 'r')\n",
    "zip_file_contents = zip_file.infolist()\n",
    "zip_file_content=zip_file.read(zip_file_contents[16])\n",
    "str_data=str(zip_file_content, 'utf-8')\n",
    "data=ET.fromstring(str_data)\n",
    "tree=ET.ElementTree(data)\n",
    "root=tree.getroot()\n",
    "q = ques(root)"
   ]
  },
  {
   "cell_type": "code",
   "execution_count": 55,
   "metadata": {},
   "outputs": [
    {
     "data": {
      "text/plain": [
       "<Element 'SurveyDefinition' at 0x0000017909974138>"
      ]
     },
     "execution_count": 55,
     "metadata": {},
     "output_type": "execute_result"
    }
   ],
   "source": [
    "root"
   ]
  },
  {
   "cell_type": "code",
   "execution_count": 56,
   "metadata": {},
   "outputs": [],
   "source": [
    "q = q[q['tags'] == \"QuestionText\"]"
   ]
  },
  {
   "cell_type": "code",
   "execution_count": 57,
   "metadata": {},
   "outputs": [],
   "source": [
    "q = q.reset_index()\n",
    "q = q.drop(['tags','index'],1)\n",
    "#q = q.transpose()"
   ]
  },
  {
   "cell_type": "code",
   "execution_count": 58,
   "metadata": {},
   "outputs": [
    {
     "data": {
      "text/plain": [
       "'1.4 I confirm that I have the authority and am authorised to represent and complete this questionnaire on behalf of the company'"
      ]
     },
     "execution_count": 58,
     "metadata": {},
     "output_type": "execute_result"
    }
   ],
   "source": [
    "q.iloc[6,1]"
   ]
  },
  {
   "cell_type": "markdown",
   "metadata": {},
   "source": [
    "q"
   ]
  },
  {
   "cell_type": "code",
   "execution_count": 12,
   "metadata": {},
   "outputs": [
    {
     "data": {
      "application/vnd.jupyter.widget-view+json": {
       "model_id": "d60a332b343a41f29e423b7f7951b400",
       "version_major": 2,
       "version_minor": 0
      },
      "text/plain": [
       "HBox(children=(IntProgress(value=0, max=44846), HTML(value='')))"
      ]
     },
     "metadata": {},
     "output_type": "display_data"
    },
    {
     "name": "stdout",
     "output_type": "stream",
     "text": [
      "25123\n",
      "questions: 32195\n",
      "responses: 1424\n",
      "other: 11227\n",
      "errors: 1\n"
     ]
    }
   ],
   "source": [
    "#pp.pprint(zip_file_contents)\n",
    "questions=0\n",
    "responses=0\n",
    "errors=0\n",
    "resps = q\n",
    "resps = resps.rename(columns={'values':'questions'})\n",
    "total = sum(total_files)\n",
    "#total = 10\n",
    "pbar = tqdm(total=total)\n",
    "error_files = []\n",
    "\n",
    "for file in f:\n",
    "    zip_file = ZipFile(file, 'r')\n",
    "    zip_file_contents = zip_file.infolist()\n",
    "    total_f = len(zip_file_contents)\n",
    "\n",
    "    for i in range(total_f):\n",
    "        try:\n",
    "            if str(zip_file_contents[i]).split(\" \")[1][-4:-1] == 'xml':\n",
    "                zip_file_content=zip_file.read(zip_file_contents[i])\n",
    "                str_data=str(zip_file_content, 'utf-8')\n",
    "                data=ET.fromstring(str_data)\n",
    "                tree=ET.ElementTree(data)\n",
    "                root=tree.getroot()\n",
    "                str_root=str(root).split(\" \")[1].strip(\"'\")\n",
    "                if str_root == \"SurveyDefinition\":\n",
    "                    questions+=1\n",
    "                elif str_root == \"xml\":\n",
    "                    responses+=1\n",
    "                    resps_rename = resp(root)\n",
    "                    resps_rename = resps_rename.rename(columns={\"tags\": \"attributes\"})\n",
    "                    #resps_rename = resps_rename.transpose()\n",
    "                    resps = resps.merge(resps_rename, on='attributes', how='left')\n",
    "                    resps = resps.rename(columns={'values':responses})\n",
    "                    #resps = resps.append(resps_rename)\n",
    "            pbar.update()\n",
    "        except:\n",
    "            errors+=1\n",
    "            error_files.append(zip_file_contents[i])\n",
    "\n",
    "print(len(zip_file_contents))\n",
    "print(\"questions: {}\".format(questions))\n",
    "print(\"responses: {}\".format(responses))\n",
    "print(\"other: {}\".format(total-(questions + responses)))\n",
    "print(\"errors: {}\".format(errors))"
   ]
  },
  {
   "cell_type": "code",
   "execution_count": 69,
   "metadata": {},
   "outputs": [
    {
     "data": {
      "text/plain": [
       "'N°1109  AVENUE BIAYI/ COMMUNE DE LUBUMBASHI'"
      ]
     },
     "execution_count": 69,
     "metadata": {},
     "output_type": "execute_result"
    }
   ],
   "source": [
    "resps.iloc[:,36][11]"
   ]
  },
  {
   "cell_type": "code",
   "execution_count": 7,
   "metadata": {
    "scrolled": true
   },
   "outputs": [
    {
     "ename": "NameError",
     "evalue": "name 'resps' is not defined",
     "output_type": "error",
     "traceback": [
      "\u001b[0;31m---------------------------------------------------------------------------\u001b[0m",
      "\u001b[0;31mNameError\u001b[0m                                 Traceback (most recent call last)",
      "\u001b[0;32m<ipython-input-7-d2d6f895a1fb>\u001b[0m in \u001b[0;36m<module>\u001b[0;34m\u001b[0m\n\u001b[0;32m----> 1\u001b[0;31m \u001b[0mresps\u001b[0m \u001b[0;34m=\u001b[0m \u001b[0mresps\u001b[0m\u001b[0;34m.\u001b[0m\u001b[0mtranspose\u001b[0m\u001b[0;34m(\u001b[0m\u001b[0;34m)\u001b[0m\u001b[0;34m\u001b[0m\u001b[0;34m\u001b[0m\u001b[0m\n\u001b[0m\u001b[1;32m      2\u001b[0m \u001b[0mresps\u001b[0m\u001b[0;34m.\u001b[0m\u001b[0mshape\u001b[0m\u001b[0;34m\u001b[0m\u001b[0;34m\u001b[0m\u001b[0m\n",
      "\u001b[0;31mNameError\u001b[0m: name 'resps' is not defined"
     ]
    }
   ],
   "source": [
    "resps = resps.transpose()\n",
    "resps.shape"
   ]
  },
  {
   "cell_type": "code",
   "execution_count": 14,
   "metadata": {},
   "outputs": [],
   "source": [
    "resps.to_csv(\"results.csv\")"
   ]
  },
  {
   "cell_type": "code",
   "execution_count": null,
   "metadata": {},
   "outputs": [],
   "source": [
    "resps.to_excel('results-7.xlsx', encoding='utf8')"
   ]
  },
  {
   "cell_type": "code",
   "execution_count": 15,
   "metadata": {},
   "outputs": [
    {
     "data": {
      "text/plain": [
       "[<ZipInfo filename='BAT_Questionnaires_20191023/145715/90e70b7c-a0c4-44d5-ba69-c7f77ee2b1b6.xml' compress_type=deflate external_attr=0x20 file_size=1296237 compress_size=1273>]"
      ]
     },
     "execution_count": 15,
     "metadata": {},
     "output_type": "execute_result"
    }
   ],
   "source": [
    "error_files"
   ]
  },
  {
   "cell_type": "code",
   "execution_count": null,
   "metadata": {},
   "outputs": [],
   "source": []
  }
 ],
 "metadata": {
  "kernelspec": {
   "display_name": "Python 3",
   "language": "python",
   "name": "python3"
  },
  "language_info": {
   "codemirror_mode": {
    "name": "ipython",
    "version": 3
   },
   "file_extension": ".py",
   "mimetype": "text/x-python",
   "name": "python",
   "nbconvert_exporter": "python",
   "pygments_lexer": "ipython3",
   "version": "3.7.3"
  }
 },
 "nbformat": 4,
 "nbformat_minor": 2
}
